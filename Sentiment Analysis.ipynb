{
 "cells": [
  {
   "cell_type": "markdown",
   "metadata": {
    "id": "ongjKAbfHuiN"
   },
   "source": [
    "# **Sentiment Analysis**"
   ]
  },
  {
   "cell_type": "markdown",
   "metadata": {
    "id": "e3IANFRCIVyc"
   },
   "source": [
    "This is a notebook containing **Sentiment Analysis** Mini Project on *Amazon Musical Instruments Reviews*. I am interested in Natural Language Processing and that is my motivation to make this project. I think that sentiment analysis has a really powerful impacts in business developments because we can gain so many insights from here."
   ]
  },
  {
   "cell_type": "markdown",
   "metadata": {
    "id": "klB2LEACJT-i"
   },
   "source": [
    "\r\n",
    "\r\n",
    "---\r\n",
    "\r\n"
   ]
  },
  {
   "cell_type": "markdown",
   "metadata": {
    "id": "bYlonQXTqdsb"
   },
   "source": [
    "# Libraries"
   ]
  },
  {
   "cell_type": "markdown",
   "metadata": {
    "id": "nLPslv2kJd_q"
   },
   "source": [
    "**Data Libraries**"
   ]
  },
  {
   "cell_type": "code",
   "execution_count": 1,
   "metadata": {
    "id": "OKnf1Te2JiKr"
   },
   "outputs": [],
   "source": [
    "import pandas as pd\r\n",
    "import numpy as np\r\n",
    "import matplotlib.pyplot as plt"
   ]
  },
  {
   "cell_type": "markdown",
   "metadata": {
    "id": "MK4hJYtj26ze"
   },
   "source": [
    "**NLP Text Libraries**"
   ]
  },
  {
   "cell_type": "code",
   "execution_count": 2,
   "metadata": {
    "id": "pCCcJZIq27XQ"
   },
   "outputs": [
    {
     "name": "stderr",
     "output_type": "stream",
     "text": [
      "[nltk_data] Downloading package punkt to /Users/ualguest/nltk_data...\n",
      "[nltk_data]   Package punkt is already up-to-date!\n",
      "[nltk_data] Downloading package stopwords to\n",
      "[nltk_data]     /Users/ualguest/nltk_data...\n",
      "[nltk_data]   Package stopwords is already up-to-date!\n",
      "[nltk_data] Downloading package wordnet to\n",
      "[nltk_data]     /Users/ualguest/nltk_data...\n",
      "[nltk_data]   Package wordnet is already up-to-date!\n"
     ]
    }
   ],
   "source": [
    "import string\r\n",
    "import re\r\n",
    "import nltk\r\n",
    "import nltk.corpus\r\n",
    "nltk.download(\"punkt\")\r\n",
    "nltk.download(\"stopwords\")\r\n",
    "nltk.download(\"wordnet\")\r\n",
    "from nltk.stem import WordNetLemmatizer"
   ]
  },
  {
   "cell_type": "code",
   "execution_count": 3,
   "metadata": {},
   "outputs": [],
   "source": [
    "# !pip3 install textblob\n",
    "# !pip3 install WordCloud\n",
    "# !pip3 install imblearn"
   ]
  },
  {
   "cell_type": "code",
   "execution_count": null,
   "metadata": {},
   "outputs": [],
   "source": []
  },
  {
   "cell_type": "markdown",
   "metadata": {
    "id": "JtEfdUiq3GUa"
   },
   "source": [
    "**EDA Analysis**"
   ]
  },
  {
   "cell_type": "code",
   "execution_count": 4,
   "metadata": {
    "id": "UbcdiNne3KHh"
   },
   "outputs": [],
   "source": [
    "# Text Polarity\r\n",
    "from textblob import TextBlob\r\n",
    "\r\n",
    "# Text Vectorizer\r\n",
    "from sklearn.feature_extraction.text import CountVectorizer\r\n",
    "\r\n",
    "# Word Cloud\r\n",
    "from wordcloud import WordCloud"
   ]
  },
  {
   "cell_type": "markdown",
   "metadata": {
    "id": "nkQ7465U3glG"
   },
   "source": [
    "**Feature Engineering**"
   ]
  },
  {
   "cell_type": "code",
   "execution_count": 5,
   "metadata": {
    "id": "6fhwyQzB3nXp"
   },
   "outputs": [],
   "source": [
    "# Label Encoding\r\n",
    "from sklearn.preprocessing import LabelEncoder\r\n",
    "\r\n",
    "# TF-IDF Vectorizer\r\n",
    "from sklearn.feature_extraction.text import TfidfVectorizer\r\n",
    "\r\n",
    "# Resampling\r\n",
    "from imblearn.over_sampling import SMOTE\r\n",
    "from collections import Counter\r\n",
    "\r\n",
    "# Splitting Dataset\r\n",
    "from sklearn.model_selection import train_test_split"
   ]
  },
  {
   "cell_type": "markdown",
   "metadata": {
    "id": "3Q-F0wVH39N_"
   },
   "source": [
    "**Model Selection and Evaluation**"
   ]
  },
  {
   "cell_type": "code",
   "execution_count": 6,
   "metadata": {
    "id": "8ZVnb3z04BRU"
   },
   "outputs": [],
   "source": [
    "# Model Building\r\n",
    "from sklearn.svm import SVC\r\n",
    "from sklearn.tree import DecisionTreeClassifier\r\n",
    "from sklearn.linear_model import LogisticRegression\r\n",
    "from sklearn.ensemble import RandomForestClassifier\r\n",
    "from sklearn.naive_bayes import BernoulliNB\r\n",
    "from sklearn.neighbors import KNeighborsClassifier\r\n",
    "from sklearn.model_selection import cross_val_score\r\n",
    "\r\n",
    "# Hyperparameter Tuning\r\n",
    "from sklearn.model_selection import GridSearchCV\r\n",
    "\r\n",
    "# Model Metrics\r\n",
    "from sklearn.metrics import confusion_matrix, accuracy_score, classification_report"
   ]
  },
  {
   "cell_type": "markdown",
   "metadata": {
    "id": "e7P3MfO4rAo5"
   },
   "source": [
    "\r\n",
    "\r\n",
    "---\r\n",
    "\r\n"
   ]
  },
  {
   "cell_type": "markdown",
   "metadata": {
    "id": "iHGQtriJqr5b"
   },
   "source": [
    "# The Dataset"
   ]
  },
  {
   "cell_type": "markdown",
   "metadata": {
    "id": "CnvxGfForHrU"
   },
   "source": [
    "*The dataset that we will use is taken from `Kaggle` website and can be downloaded here:*\r\n",
    "\r\n",
    "[`Amazon Musical Instruments Reviews`](https://www.kaggle.com/eswarchandt/amazon-music-reviews?select=Musical_instruments_reviews.csv)\r\n",
    "\r\n",
    "*There are two formats available of the dataset: `JSON` and `CSV`. We will use the `CSV` one in this project.*\r\n",
    "\r\n",
    "*Overall, the dataset talks about the feedback received after the customers purchased musical instruments from `Amazon`.*"
   ]
  },
  {
   "cell_type": "markdown",
   "metadata": {
    "id": "lTMTNbaTMYaq"
   },
   "source": [
    "**Read The Dataset**"
   ]
  },
  {
   "cell_type": "code",
   "execution_count": 7,
   "metadata": {
    "id": "9VjFT2uzMdkh"
   },
   "outputs": [],
   "source": [
    "dataset = pd.read_csv(\"Instruments_Reviews.csv\")"
   ]
  },
  {
   "cell_type": "markdown",
   "metadata": {
    "id": "Y9R9JlB_XlQj"
   },
   "source": [
    "**Shape of The Dataset**"
   ]
  },
  {
   "cell_type": "code",
   "execution_count": 8,
   "metadata": {
    "colab": {
     "base_uri": "https://localhost:8080/"
    },
    "id": "Oqyu2S8-XnMt",
    "outputId": "cac30f1d-f7f8-45b6-8f4f-7c71cfda71bc"
   },
   "outputs": [
    {
     "data": {
      "text/plain": [
       "(10261, 9)"
      ]
     },
     "execution_count": 8,
     "metadata": {},
     "output_type": "execute_result"
    }
   ],
   "source": [
    "dataset.shape"
   ]
  },
  {
   "cell_type": "markdown",
   "metadata": {
    "id": "WtI2Q6ZaX_Me"
   },
   "source": [
    "*From this, we can infer that the dataset consists of 10261 rows and 9 columns.*"
   ]
  },
  {
   "cell_type": "markdown",
   "metadata": {
    "id": "iHDaIkiNq-69"
   },
   "source": [
    "\r\n",
    "\r\n",
    "---\r\n",
    "\r\n"
   ]
  },
  {
   "cell_type": "markdown",
   "metadata": {
    "id": "dW_gX7TisCPY"
   },
   "source": [
    "# Data Preprocessing"
   ]
  },
  {
   "cell_type": "markdown",
   "metadata": {
    "id": "ADHd-9LLj5Dd"
   },
   "source": [
    "**Checking Null Values**"
   ]
  },
  {
   "cell_type": "code",
   "execution_count": 9,
   "metadata": {
    "colab": {
     "base_uri": "https://localhost:8080/"
    },
    "id": "BM-K5k5Cf4TO",
    "outputId": "d51b9f6e-cfc1-4254-bf6b-4e0424e87119"
   },
   "outputs": [
    {
     "data": {
      "text/plain": [
       "reviewerID         0\n",
       "asin               0\n",
       "reviewerName      27\n",
       "helpful            0\n",
       "reviewText         7\n",
       "overall            0\n",
       "summary            0\n",
       "unixReviewTime     0\n",
       "reviewTime         0\n",
       "dtype: int64"
      ]
     },
     "execution_count": 9,
     "metadata": {},
     "output_type": "execute_result"
    }
   ],
   "source": [
    "dataset.isnull().sum()"
   ]
  },
  {
   "cell_type": "markdown",
   "metadata": {
    "id": "rEwy5qHQka8P"
   },
   "source": [
    "*From above, there are two columns in the dataset with null values: `reviewText` and `reviewerName`. While the latter one is not really important, we should focus on the first column. We cannot remove these rows because the ratings and summary given from the customers will have some effects to our model later (although the number of missing rows is small). Because of it, we can fill the empty values with an empty string.*"
   ]
  },
  {
   "cell_type": "markdown",
   "metadata": {
    "id": "Ixbi3n-hrihj"
   },
   "source": [
    "**Filling Missing Values**"
   ]
  },
  {
   "cell_type": "code",
   "execution_count": 10,
   "metadata": {
    "id": "iAPP2bwKf_yZ"
   },
   "outputs": [],
   "source": [
    "dataset.reviewText.fillna(value = \"\", inplace = True)"
   ]
  },
  {
   "cell_type": "markdown",
   "metadata": {
    "id": "mGVfh4qKy40f"
   },
   "source": [
    "**Concatenate `reviewText` and `summary` Columns**"
   ]
  },
  {
   "cell_type": "code",
   "execution_count": 11,
   "metadata": {
    "id": "8QmjDCfIzC80"
   },
   "outputs": [],
   "source": [
    "dataset[\"reviews\"] = dataset[\"reviewText\"] + \" \" + dataset[\"summary\"]\r\n",
    "dataset.drop(columns = [\"reviewText\", \"summary\"], axis = 1, inplace = True)"
   ]
  },
  {
   "cell_type": "markdown",
   "metadata": {
    "id": "nJl_pwi-ZO5y"
   },
   "source": [
    "**Statistic Description of The Dataset**"
   ]
  },
  {
   "cell_type": "code",
   "execution_count": 12,
   "metadata": {
    "colab": {
     "base_uri": "https://localhost:8080/",
     "height": 373
    },
    "id": "Vcle9XdNZb3L",
    "outputId": "e3d1a9bc-9edb-48c2-feee-9090a0690927"
   },
   "outputs": [
    {
     "data": {
      "text/html": [
       "<div>\n",
       "<style scoped>\n",
       "    .dataframe tbody tr th:only-of-type {\n",
       "        vertical-align: middle;\n",
       "    }\n",
       "\n",
       "    .dataframe tbody tr th {\n",
       "        vertical-align: top;\n",
       "    }\n",
       "\n",
       "    .dataframe thead th {\n",
       "        text-align: right;\n",
       "    }\n",
       "</style>\n",
       "<table border=\"1\" class=\"dataframe\">\n",
       "  <thead>\n",
       "    <tr style=\"text-align: right;\">\n",
       "      <th></th>\n",
       "      <th>reviewerID</th>\n",
       "      <th>asin</th>\n",
       "      <th>reviewerName</th>\n",
       "      <th>helpful</th>\n",
       "      <th>overall</th>\n",
       "      <th>unixReviewTime</th>\n",
       "      <th>reviewTime</th>\n",
       "      <th>reviews</th>\n",
       "    </tr>\n",
       "  </thead>\n",
       "  <tbody>\n",
       "    <tr>\n",
       "      <th>count</th>\n",
       "      <td>10261</td>\n",
       "      <td>10261</td>\n",
       "      <td>10234</td>\n",
       "      <td>10261</td>\n",
       "      <td>10261.000000</td>\n",
       "      <td>1.026100e+04</td>\n",
       "      <td>10261</td>\n",
       "      <td>10261</td>\n",
       "    </tr>\n",
       "    <tr>\n",
       "      <th>unique</th>\n",
       "      <td>1429</td>\n",
       "      <td>900</td>\n",
       "      <td>1397</td>\n",
       "      <td>269</td>\n",
       "      <td>NaN</td>\n",
       "      <td>NaN</td>\n",
       "      <td>1570</td>\n",
       "      <td>10261</td>\n",
       "    </tr>\n",
       "    <tr>\n",
       "      <th>top</th>\n",
       "      <td>ADH0O8UVJOT10</td>\n",
       "      <td>B003VWJ2K8</td>\n",
       "      <td>Amazon Customer</td>\n",
       "      <td>[0, 0]</td>\n",
       "      <td>NaN</td>\n",
       "      <td>NaN</td>\n",
       "      <td>01 22, 2013</td>\n",
       "      <td>Not much to write about here, but it does exac...</td>\n",
       "    </tr>\n",
       "    <tr>\n",
       "      <th>freq</th>\n",
       "      <td>42</td>\n",
       "      <td>163</td>\n",
       "      <td>66</td>\n",
       "      <td>6796</td>\n",
       "      <td>NaN</td>\n",
       "      <td>NaN</td>\n",
       "      <td>40</td>\n",
       "      <td>1</td>\n",
       "    </tr>\n",
       "    <tr>\n",
       "      <th>mean</th>\n",
       "      <td>NaN</td>\n",
       "      <td>NaN</td>\n",
       "      <td>NaN</td>\n",
       "      <td>NaN</td>\n",
       "      <td>4.488744</td>\n",
       "      <td>1.360606e+09</td>\n",
       "      <td>NaN</td>\n",
       "      <td>NaN</td>\n",
       "    </tr>\n",
       "    <tr>\n",
       "      <th>std</th>\n",
       "      <td>NaN</td>\n",
       "      <td>NaN</td>\n",
       "      <td>NaN</td>\n",
       "      <td>NaN</td>\n",
       "      <td>0.894642</td>\n",
       "      <td>3.779735e+07</td>\n",
       "      <td>NaN</td>\n",
       "      <td>NaN</td>\n",
       "    </tr>\n",
       "    <tr>\n",
       "      <th>min</th>\n",
       "      <td>NaN</td>\n",
       "      <td>NaN</td>\n",
       "      <td>NaN</td>\n",
       "      <td>NaN</td>\n",
       "      <td>1.000000</td>\n",
       "      <td>1.095466e+09</td>\n",
       "      <td>NaN</td>\n",
       "      <td>NaN</td>\n",
       "    </tr>\n",
       "    <tr>\n",
       "      <th>25%</th>\n",
       "      <td>NaN</td>\n",
       "      <td>NaN</td>\n",
       "      <td>NaN</td>\n",
       "      <td>NaN</td>\n",
       "      <td>4.000000</td>\n",
       "      <td>1.343434e+09</td>\n",
       "      <td>NaN</td>\n",
       "      <td>NaN</td>\n",
       "    </tr>\n",
       "    <tr>\n",
       "      <th>50%</th>\n",
       "      <td>NaN</td>\n",
       "      <td>NaN</td>\n",
       "      <td>NaN</td>\n",
       "      <td>NaN</td>\n",
       "      <td>5.000000</td>\n",
       "      <td>1.368490e+09</td>\n",
       "      <td>NaN</td>\n",
       "      <td>NaN</td>\n",
       "    </tr>\n",
       "    <tr>\n",
       "      <th>75%</th>\n",
       "      <td>NaN</td>\n",
       "      <td>NaN</td>\n",
       "      <td>NaN</td>\n",
       "      <td>NaN</td>\n",
       "      <td>5.000000</td>\n",
       "      <td>1.388966e+09</td>\n",
       "      <td>NaN</td>\n",
       "      <td>NaN</td>\n",
       "    </tr>\n",
       "    <tr>\n",
       "      <th>max</th>\n",
       "      <td>NaN</td>\n",
       "      <td>NaN</td>\n",
       "      <td>NaN</td>\n",
       "      <td>NaN</td>\n",
       "      <td>5.000000</td>\n",
       "      <td>1.405987e+09</td>\n",
       "      <td>NaN</td>\n",
       "      <td>NaN</td>\n",
       "    </tr>\n",
       "  </tbody>\n",
       "</table>\n",
       "</div>"
      ],
      "text/plain": [
       "           reviewerID        asin     reviewerName helpful       overall  \\\n",
       "count           10261       10261            10234   10261  10261.000000   \n",
       "unique           1429         900             1397     269           NaN   \n",
       "top     ADH0O8UVJOT10  B003VWJ2K8  Amazon Customer  [0, 0]           NaN   \n",
       "freq               42         163               66    6796           NaN   \n",
       "mean              NaN         NaN              NaN     NaN      4.488744   \n",
       "std               NaN         NaN              NaN     NaN      0.894642   \n",
       "min               NaN         NaN              NaN     NaN      1.000000   \n",
       "25%               NaN         NaN              NaN     NaN      4.000000   \n",
       "50%               NaN         NaN              NaN     NaN      5.000000   \n",
       "75%               NaN         NaN              NaN     NaN      5.000000   \n",
       "max               NaN         NaN              NaN     NaN      5.000000   \n",
       "\n",
       "        unixReviewTime   reviewTime  \\\n",
       "count     1.026100e+04        10261   \n",
       "unique             NaN         1570   \n",
       "top                NaN  01 22, 2013   \n",
       "freq               NaN           40   \n",
       "mean      1.360606e+09          NaN   \n",
       "std       3.779735e+07          NaN   \n",
       "min       1.095466e+09          NaN   \n",
       "25%       1.343434e+09          NaN   \n",
       "50%       1.368490e+09          NaN   \n",
       "75%       1.388966e+09          NaN   \n",
       "max       1.405987e+09          NaN   \n",
       "\n",
       "                                                  reviews  \n",
       "count                                               10261  \n",
       "unique                                              10261  \n",
       "top     Not much to write about here, but it does exac...  \n",
       "freq                                                    1  \n",
       "mean                                                  NaN  \n",
       "std                                                   NaN  \n",
       "min                                                   NaN  \n",
       "25%                                                   NaN  \n",
       "50%                                                   NaN  \n",
       "75%                                                   NaN  \n",
       "max                                                   NaN  "
      ]
     },
     "execution_count": 12,
     "metadata": {},
     "output_type": "execute_result"
    }
   ],
   "source": [
    "dataset.describe(include = \"all\")"
   ]
  },
  {
   "cell_type": "markdown",
   "metadata": {
    "id": "YSAHUwnxbP-v"
   },
   "source": [
    "*From the description above, we know that the ratings given from the customers will have the range of [1, 5] as shown above. Also, the average rating given to musical instruments sold is 4.48. We can also see our new column `reviews` is there to concate both `summary` and `reviewText`.*"
   ]
  },
  {
   "cell_type": "markdown",
   "metadata": {
    "id": "o8nymOqpmEk7"
   },
   "source": [
    "**Percentages of Ratings Given from The Customers**"
   ]
  },
  {
   "cell_type": "code",
   "execution_count": 13,
   "metadata": {
    "colab": {
     "base_uri": "https://localhost:8080/",
     "height": 482
    },
    "id": "BRO9JUQGmQKX",
    "outputId": "81f262e2-1bac-4485-d0fb-e48b3d623fe3"
   },
   "outputs": [
    {
     "data": {
      "image/png": "[encoded data removed]",
      "text/plain": [
       "<Figure size 576x576 with 1 Axes>"
      ]
     },
     "metadata": {},
     "output_type": "display_data"
    }
   ],
   "source": [
    "dataset.overall.value_counts().plot(kind = \"pie\", legend = False, autopct = \"%1.2f%%\", fontsize = 10, figsize=(8,8))\r\n",
    "plt.title(\"Percentages of Ratings Given from The Customers\", loc = \"center\")\r\n",
    "plt.show()"
   ]
  },
  {
   "cell_type": "markdown",
   "metadata": {
    "id": "05fL8PpvqSQ1"
   },
   "source": [
    "*From the chart above, the majority of musical instruments sold on Amazon have perfect ratings of 5.0, meaning the condition of the products are good. If we were to denote that ratings above 3 are `positive`, ratings equal to 3 are `neutral`, and ratings under 3 are `negative`, we know that the number of negative reviews given in the dataset are relatively small. This might affect our model later.*"
   ]
  },
  {
   "cell_type": "markdown",
   "metadata": {
    "id": "7Xn_UP8nz_gT"
   },
   "source": [
    "**Labelling Products Based On Ratings Given**"
   ]
  },
  {
   "cell_type": "markdown",
   "metadata": {
    "id": "1yvC7kTqa-dw"
   },
   "source": [
    "*Our dataset does not have any dependent variable, or in other words we haven't had any prediction target yet. We will categorize each sentiment according to ratings given for each row based on the explanation before: `Positive` Label for products with rating bigger than 3.0, `Neutral` Label for products with rating equal to 3.0, else `Negative` Label.*"
   ]
  },
  {
   "cell_type": "code",
   "execution_count": 14,
   "metadata": {
    "id": "0MkzDBoheXu2"
   },
   "outputs": [],
   "source": [
    "def Labelling(Rows):\r\n",
    "  if(Rows[\"overall\"] > 3.0):\r\n",
    "    Label = \"Positive\"\r\n",
    "  elif(Rows[\"overall\"] < 3.0):\r\n",
    "    Label = \"Negative\"\r\n",
    "  else:\r\n",
    "    Label = \"Neutral\"\r\n",
    "  return Label"
   ]
  },
  {
   "cell_type": "code",
   "execution_count": 15,
   "metadata": {
    "id": "25X3zpdUnDLk"
   },
   "outputs": [],
   "source": [
    "dataset[\"sentiment\"] = dataset.apply(Labelling, axis = 1)"
   ]
  },
  {
   "cell_type": "code",
   "execution_count": 16,
   "metadata": {
    "colab": {
     "base_uri": "https://localhost:8080/",
     "height": 327
    },
    "id": "CzXrm3WtDY_u",
    "outputId": "4ce8c1e2-3a88-45b3-af24-4998da37f203"
   },
   "outputs": [
    {
     "data": {
      "image/png": "[encoded data removed]",
      "text/plain": [
       "<Figure size 432x288 with 1 Axes>"
      ]
     },
     "metadata": {
      "needs_background": "light"
     },
     "output_type": "display_data"
    }
   ],
   "source": [
    "dataset[\"sentiment\"].value_counts().plot(kind = \"bar\", color = \"blue\")\r\n",
    "plt.title(\"Amount of Each Sentiments Based On Rating Given\", loc = \"center\", fontsize = 15, color = \"red\", pad = 25)\r\n",
    "plt.xlabel(\"Sentiments\", color = \"green\", fontsize = 10, labelpad = 15)\r\n",
    "plt.xticks(rotation = 0)\r\n",
    "plt.ylabel(\"Amount of Sentiments\", color = \"green\", fontsize = 10, labelpad = 15)\r\n",
    "plt.show()"
   ]
  },
  {
   "cell_type": "markdown",
   "metadata": {
    "id": "BepAPzgdIEgn"
   },
   "source": [
    "*In this part we can actually change the labels into numeric values but for the sake of experiments we will do it later. Also, notice that from the graph we can know that most of our data contains positive sentiments, which is true from the exploration before.*"
   ]
  },
  {
   "cell_type": "markdown",
   "metadata": {
    "id": "9D_rE8CxqTMe"
   },
   "source": [
    "\r\n",
    "\r\n",
    "---\r\n",
    "\r\n"
   ]
  },
  {
   "cell_type": "markdown",
   "metadata": {
    "id": "LelPKb79I1XU"
   },
   "source": [
    "# Text Preprocessing"
   ]
  },
  {
   "cell_type": "markdown",
   "metadata": {
    "id": "3PbE0Z31Z32J"
   },
   "source": [
    "**Text Cleaning**"
   ]
  },
  {
   "cell_type": "code",
   "execution_count": 17,
   "metadata": {
    "id": "ZCR3SRdpJDBh"
   },
   "outputs": [],
   "source": [
    "def Text_Cleaning(Text):\r\n",
    "  # Lowercase the texts\r\n",
    "  Text = Text.lower()\r\n",
    "\r\n",
    "  # Cleaning punctuations in the text\r\n",
    "  punc = str.maketrans(string.punctuation, ' '*len(string.punctuation))\r\n",
    "  Text = Text.translate(punc)\r\n",
    "\r\n",
    "  # Removing numbers in the text\r\n",
    "  Text = re.sub(r'\\d+', '', Text)\r\n",
    "\r\n",
    "  # Remove possible links\r\n",
    "  Text = re.sub('https?://\\S+|www\\.\\S+', '', Text)\r\n",
    "\r\n",
    "  # Deleting newlines\r\n",
    "  Text = re.sub('\\n', '', Text)\r\n",
    "\r\n",
    "  return Text"
   ]
  },
  {
   "cell_type": "markdown",
   "metadata": {
    "id": "A2zOCerCZ9i8"
   },
   "source": [
    "**Text Processing**"
   ]
  },
  {
   "cell_type": "code",
   "execution_count": 18,
   "metadata": {
    "id": "CTtuLGYuaA9U"
   },
   "outputs": [],
   "source": [
    "# Stopwords\r\n",
    "Stopwords = set(nltk.corpus.stopwords.words(\"english\")) - set([\"not\"])\r\n",
    "\r\n",
    "def Text_Processing(Text):\r\n",
    "  Processed_Text = list()\r\n",
    "  Lemmatizer = WordNetLemmatizer()\r\n",
    "\r\n",
    "  # Tokens of Words\r\n",
    "  Tokens = nltk.word_tokenize(Text)\r\n",
    "\r\n",
    "  # Removing Stopwords and Lemmatizing Words\r\n",
    "  # To reduce noises in our dataset, also to keep it simple and still \r\n",
    "  # powerful, we will only omit the word `not` from the list of stopwords\r\n",
    "\r\n",
    "  for word in Tokens:\r\n",
    "    if word not in Stopwords:\r\n",
    "      Processed_Text.append(Lemmatizer.lemmatize(word))\r\n",
    "\r\n",
    "  return(\" \".join(Processed_Text))"
   ]
  },
  {
   "cell_type": "markdown",
   "metadata": {
    "id": "OOhoaPOVm3av"
   },
   "source": [
    "**Applying The Functions**"
   ]
  },
  {
   "cell_type": "code",
   "execution_count": 19,
   "metadata": {
    "id": "Oo_bJqO0aFfi"
   },
   "outputs": [],
   "source": [
    "dataset[\"reviews\"] = dataset[\"reviews\"].apply(lambda Text: Text_Cleaning(Text))\r\n",
    "dataset[\"reviews\"] = dataset[\"reviews\"].apply(lambda Text: Text_Processing(Text))"
   ]
  },
  {
   "cell_type": "markdown",
   "metadata": {
    "id": "ak5vPTL44q1e"
   },
   "source": [
    "\r\n",
    "\r\n",
    "---\r\n",
    "\r\n"
   ]
  },
  {
   "cell_type": "markdown",
   "metadata": {
    "id": "JKYYAbZSq3QH"
   },
   "source": [
    "# Exploratory Data Analysis"
   ]
  },
  {
   "cell_type": "markdown",
   "metadata": {
    "id": "nSXc6upbsS7K"
   },
   "source": [
    "**Overview of The Dataset**"
   ]
  },
  {
   "cell_type": "code",
   "execution_count": 20,
   "metadata": {
    "colab": {
     "base_uri": "https://localhost:8080/",
     "height": 511
    },
    "id": "I7nZOJQ8pLCT",
    "outputId": "35963c7c-65f6-4f6b-bf18-506ee50b6b2a"
   },
   "outputs": [
    {
     "data": {
      "text/html": [
       "<div>\n",
       "<style scoped>\n",
       "    .dataframe tbody tr th:only-of-type {\n",
       "        vertical-align: middle;\n",
       "    }\n",
       "\n",
       "    .dataframe tbody tr th {\n",
       "        vertical-align: top;\n",
       "    }\n",
       "\n",
       "    .dataframe thead th {\n",
       "        text-align: right;\n",
       "    }\n",
       "</style>\n",
       "<table border=\"1\" class=\"dataframe\">\n",
       "  <thead>\n",
       "    <tr style=\"text-align: right;\">\n",
       "      <th></th>\n",
       "      <th>reviewerID</th>\n",
       "      <th>asin</th>\n",
       "      <th>reviewerName</th>\n",
       "      <th>helpful</th>\n",
       "      <th>overall</th>\n",
       "      <th>unixReviewTime</th>\n",
       "      <th>reviewTime</th>\n",
       "      <th>reviews</th>\n",
       "      <th>sentiment</th>\n",
       "    </tr>\n",
       "  </thead>\n",
       "  <tbody>\n",
       "    <tr>\n",
       "      <th>0</th>\n",
       "      <td>A2IBPI20UZIR0U</td>\n",
       "      <td>1384719342</td>\n",
       "      <td>cassandra tu \"Yeah, well, that's just like, u...</td>\n",
       "      <td>[0, 0]</td>\n",
       "      <td>5.0</td>\n",
       "      <td>1393545600</td>\n",
       "      <td>02 28, 2014</td>\n",
       "      <td>not much write exactly supposed filter pop sou...</td>\n",
       "      <td>Positive</td>\n",
       "    </tr>\n",
       "    <tr>\n",
       "      <th>1</th>\n",
       "      <td>A14VAT5EAX3D9S</td>\n",
       "      <td>1384719342</td>\n",
       "      <td>Jake</td>\n",
       "      <td>[13, 14]</td>\n",
       "      <td>5.0</td>\n",
       "      <td>1363392000</td>\n",
       "      <td>03 16, 2013</td>\n",
       "      <td>product exactly quite affordable not realized ...</td>\n",
       "      <td>Positive</td>\n",
       "    </tr>\n",
       "    <tr>\n",
       "      <th>2</th>\n",
       "      <td>A195EZSQDW3E21</td>\n",
       "      <td>1384719342</td>\n",
       "      <td>Rick Bennette \"Rick Bennette\"</td>\n",
       "      <td>[1, 1]</td>\n",
       "      <td>5.0</td>\n",
       "      <td>1377648000</td>\n",
       "      <td>08 28, 2013</td>\n",
       "      <td>primary job device block breath would otherwis...</td>\n",
       "      <td>Positive</td>\n",
       "    </tr>\n",
       "    <tr>\n",
       "      <th>3</th>\n",
       "      <td>A2C00NNG1ZQQG2</td>\n",
       "      <td>1384719342</td>\n",
       "      <td>RustyBill \"Sunday Rocker\"</td>\n",
       "      <td>[0, 0]</td>\n",
       "      <td>5.0</td>\n",
       "      <td>1392336000</td>\n",
       "      <td>02 14, 2014</td>\n",
       "      <td>nice windscreen protects mxl mic prevents pop ...</td>\n",
       "      <td>Positive</td>\n",
       "    </tr>\n",
       "    <tr>\n",
       "      <th>4</th>\n",
       "      <td>A94QU4C90B1AX</td>\n",
       "      <td>1384719342</td>\n",
       "      <td>SEAN MASLANKA</td>\n",
       "      <td>[0, 0]</td>\n",
       "      <td>5.0</td>\n",
       "      <td>1392940800</td>\n",
       "      <td>02 21, 2014</td>\n",
       "      <td>pop filter great look performs like studio fil...</td>\n",
       "      <td>Positive</td>\n",
       "    </tr>\n",
       "    <tr>\n",
       "      <th>5</th>\n",
       "      <td>A2A039TZMZHH9Y</td>\n",
       "      <td>B00004Y2UT</td>\n",
       "      <td>Bill Lewey \"blewey\"</td>\n",
       "      <td>[0, 0]</td>\n",
       "      <td>5.0</td>\n",
       "      <td>1356048000</td>\n",
       "      <td>12 21, 2012</td>\n",
       "      <td>good bought another one love heavy cord gold c...</td>\n",
       "      <td>Positive</td>\n",
       "    </tr>\n",
       "    <tr>\n",
       "      <th>6</th>\n",
       "      <td>A1UPZM995ZAH90</td>\n",
       "      <td>B00004Y2UT</td>\n",
       "      <td>Brian</td>\n",
       "      <td>[0, 0]</td>\n",
       "      <td>5.0</td>\n",
       "      <td>1390089600</td>\n",
       "      <td>01 19, 2014</td>\n",
       "      <td>used monster cable year good reason lifetime w...</td>\n",
       "      <td>Positive</td>\n",
       "    </tr>\n",
       "    <tr>\n",
       "      <th>7</th>\n",
       "      <td>AJNFQI3YR6XJ5</td>\n",
       "      <td>B00004Y2UT</td>\n",
       "      <td>Fender Guy \"Rick\"</td>\n",
       "      <td>[0, 0]</td>\n",
       "      <td>3.0</td>\n",
       "      <td>1353024000</td>\n",
       "      <td>11 16, 2012</td>\n",
       "      <td>use cable run output pedal chain input fender ...</td>\n",
       "      <td>Neutral</td>\n",
       "    </tr>\n",
       "    <tr>\n",
       "      <th>8</th>\n",
       "      <td>A3M1PLEYNDEYO8</td>\n",
       "      <td>B00004Y2UT</td>\n",
       "      <td>G. Thomas \"Tom\"</td>\n",
       "      <td>[0, 0]</td>\n",
       "      <td>5.0</td>\n",
       "      <td>1215302400</td>\n",
       "      <td>07 6, 2008</td>\n",
       "      <td>perfect epiphone sheraton ii monster cable wel...</td>\n",
       "      <td>Positive</td>\n",
       "    </tr>\n",
       "    <tr>\n",
       "      <th>9</th>\n",
       "      <td>AMNTZU1YQN1TH</td>\n",
       "      <td>B00004Y2UT</td>\n",
       "      <td>Kurt Robair</td>\n",
       "      <td>[0, 0]</td>\n",
       "      <td>5.0</td>\n",
       "      <td>1389139200</td>\n",
       "      <td>01 8, 2014</td>\n",
       "      <td>monster make best cable lifetime warranty does...</td>\n",
       "      <td>Positive</td>\n",
       "    </tr>\n",
       "  </tbody>\n",
       "</table>\n",
       "</div>"
      ],
      "text/plain": [
       "       reviewerID        asin  \\\n",
       "0  A2IBPI20UZIR0U  1384719342   \n",
       "1  A14VAT5EAX3D9S  1384719342   \n",
       "2  A195EZSQDW3E21  1384719342   \n",
       "3  A2C00NNG1ZQQG2  1384719342   \n",
       "4   A94QU4C90B1AX  1384719342   \n",
       "5  A2A039TZMZHH9Y  B00004Y2UT   \n",
       "6  A1UPZM995ZAH90  B00004Y2UT   \n",
       "7   AJNFQI3YR6XJ5  B00004Y2UT   \n",
       "8  A3M1PLEYNDEYO8  B00004Y2UT   \n",
       "9   AMNTZU1YQN1TH  B00004Y2UT   \n",
       "\n",
       "                                       reviewerName   helpful  overall  \\\n",
       "0  cassandra tu \"Yeah, well, that's just like, u...    [0, 0]      5.0   \n",
       "1                                              Jake  [13, 14]      5.0   \n",
       "2                     Rick Bennette \"Rick Bennette\"    [1, 1]      5.0   \n",
       "3                         RustyBill \"Sunday Rocker\"    [0, 0]      5.0   \n",
       "4                                     SEAN MASLANKA    [0, 0]      5.0   \n",
       "5                               Bill Lewey \"blewey\"    [0, 0]      5.0   \n",
       "6                                             Brian    [0, 0]      5.0   \n",
       "7                                 Fender Guy \"Rick\"    [0, 0]      3.0   \n",
       "8                                   G. Thomas \"Tom\"    [0, 0]      5.0   \n",
       "9                                       Kurt Robair    [0, 0]      5.0   \n",
       "\n",
       "   unixReviewTime   reviewTime  \\\n",
       "0      1393545600  02 28, 2014   \n",
       "1      1363392000  03 16, 2013   \n",
       "2      1377648000  08 28, 2013   \n",
       "3      1392336000  02 14, 2014   \n",
       "4      1392940800  02 21, 2014   \n",
       "5      1356048000  12 21, 2012   \n",
       "6      1390089600  01 19, 2014   \n",
       "7      1353024000  11 16, 2012   \n",
       "8      1215302400   07 6, 2008   \n",
       "9      1389139200   01 8, 2014   \n",
       "\n",
       "                                             reviews sentiment  \n",
       "0  not much write exactly supposed filter pop sou...  Positive  \n",
       "1  product exactly quite affordable not realized ...  Positive  \n",
       "2  primary job device block breath would otherwis...  Positive  \n",
       "3  nice windscreen protects mxl mic prevents pop ...  Positive  \n",
       "4  pop filter great look performs like studio fil...  Positive  \n",
       "5  good bought another one love heavy cord gold c...  Positive  \n",
       "6  used monster cable year good reason lifetime w...  Positive  \n",
       "7  use cable run output pedal chain input fender ...   Neutral  \n",
       "8  perfect epiphone sheraton ii monster cable wel...  Positive  \n",
       "9  monster make best cable lifetime warranty does...  Positive  "
      ]
     },
     "execution_count": 20,
     "metadata": {},
     "output_type": "execute_result"
    }
   ],
   "source": [
    "dataset.head(n = 10)"
   ]
  },
  {
   "cell_type": "markdown",
   "metadata": {
    "id": "Q02aQd2ckA0w"
   },
   "source": [
    "*With the overview above, we know that for sentiment analysis that we will do, `reviews` is important to our model and we should use this aspect as our feature. By using this feature, we will need to predict what our sentiment will be classified into.*"
   ]
  },
  {
   "cell_type": "markdown",
   "metadata": {
    "id": "dFQOTMt7ppRB"
   },
   "source": [
    "**About Other Features**"
   ]
  },
  {
   "cell_type": "code",
   "execution_count": 21,
   "metadata": {
    "colab": {
     "base_uri": "https://localhost:8080/",
     "height": 373
    },
    "id": "bETmnZANpt9x",
    "outputId": "75f7adf1-1cd1-4c13-ec64-2d8b125adc0f"
   },
   "outputs": [
    {
     "data": {
      "text/html": [
       "<div>\n",
       "<style scoped>\n",
       "    .dataframe tbody tr th:only-of-type {\n",
       "        vertical-align: middle;\n",
       "    }\n",
       "\n",
       "    .dataframe tbody tr th {\n",
       "        vertical-align: top;\n",
       "    }\n",
       "\n",
       "    .dataframe thead th {\n",
       "        text-align: right;\n",
       "    }\n",
       "</style>\n",
       "<table border=\"1\" class=\"dataframe\">\n",
       "  <thead>\n",
       "    <tr style=\"text-align: right;\">\n",
       "      <th></th>\n",
       "      <th>reviewerID</th>\n",
       "      <th>asin</th>\n",
       "      <th>reviewerName</th>\n",
       "      <th>helpful</th>\n",
       "      <th>overall</th>\n",
       "      <th>unixReviewTime</th>\n",
       "      <th>reviewTime</th>\n",
       "      <th>reviews</th>\n",
       "      <th>sentiment</th>\n",
       "    </tr>\n",
       "  </thead>\n",
       "  <tbody>\n",
       "    <tr>\n",
       "      <th>count</th>\n",
       "      <td>10261</td>\n",
       "      <td>10261</td>\n",
       "      <td>10234</td>\n",
       "      <td>10261</td>\n",
       "      <td>10261.000000</td>\n",
       "      <td>1.026100e+04</td>\n",
       "      <td>10261</td>\n",
       "      <td>10261</td>\n",
       "      <td>10261</td>\n",
       "    </tr>\n",
       "    <tr>\n",
       "      <th>unique</th>\n",
       "      <td>1429</td>\n",
       "      <td>900</td>\n",
       "      <td>1397</td>\n",
       "      <td>269</td>\n",
       "      <td>NaN</td>\n",
       "      <td>NaN</td>\n",
       "      <td>1570</td>\n",
       "      <td>10254</td>\n",
       "      <td>3</td>\n",
       "    </tr>\n",
       "    <tr>\n",
       "      <th>top</th>\n",
       "      <td>ADH0O8UVJOT10</td>\n",
       "      <td>B003VWJ2K8</td>\n",
       "      <td>Amazon Customer</td>\n",
       "      <td>[0, 0]</td>\n",
       "      <td>NaN</td>\n",
       "      <td>NaN</td>\n",
       "      <td>01 22, 2013</td>\n",
       "      <td>good string five star</td>\n",
       "      <td>Positive</td>\n",
       "    </tr>\n",
       "    <tr>\n",
       "      <th>freq</th>\n",
       "      <td>42</td>\n",
       "      <td>163</td>\n",
       "      <td>66</td>\n",
       "      <td>6796</td>\n",
       "      <td>NaN</td>\n",
       "      <td>NaN</td>\n",
       "      <td>40</td>\n",
       "      <td>3</td>\n",
       "      <td>9022</td>\n",
       "    </tr>\n",
       "    <tr>\n",
       "      <th>mean</th>\n",
       "      <td>NaN</td>\n",
       "      <td>NaN</td>\n",
       "      <td>NaN</td>\n",
       "      <td>NaN</td>\n",
       "      <td>4.488744</td>\n",
       "      <td>1.360606e+09</td>\n",
       "      <td>NaN</td>\n",
       "      <td>NaN</td>\n",
       "      <td>NaN</td>\n",
       "    </tr>\n",
       "    <tr>\n",
       "      <th>std</th>\n",
       "      <td>NaN</td>\n",
       "      <td>NaN</td>\n",
       "      <td>NaN</td>\n",
       "      <td>NaN</td>\n",
       "      <td>0.894642</td>\n",
       "      <td>3.779735e+07</td>\n",
       "      <td>NaN</td>\n",
       "      <td>NaN</td>\n",
       "      <td>NaN</td>\n",
       "    </tr>\n",
       "    <tr>\n",
       "      <th>min</th>\n",
       "      <td>NaN</td>\n",
       "      <td>NaN</td>\n",
       "      <td>NaN</td>\n",
       "      <td>NaN</td>\n",
       "      <td>1.000000</td>\n",
       "      <td>1.095466e+09</td>\n",
       "      <td>NaN</td>\n",
       "      <td>NaN</td>\n",
       "      <td>NaN</td>\n",
       "    </tr>\n",
       "    <tr>\n",
       "      <th>25%</th>\n",
       "      <td>NaN</td>\n",
       "      <td>NaN</td>\n",
       "      <td>NaN</td>\n",
       "      <td>NaN</td>\n",
       "      <td>4.000000</td>\n",
       "      <td>1.343434e+09</td>\n",
       "      <td>NaN</td>\n",
       "      <td>NaN</td>\n",
       "      <td>NaN</td>\n",
       "    </tr>\n",
       "    <tr>\n",
       "      <th>50%</th>\n",
       "      <td>NaN</td>\n",
       "      <td>NaN</td>\n",
       "      <td>NaN</td>\n",
       "      <td>NaN</td>\n",
       "      <td>5.000000</td>\n",
       "      <td>1.368490e+09</td>\n",
       "      <td>NaN</td>\n",
       "      <td>NaN</td>\n",
       "      <td>NaN</td>\n",
       "    </tr>\n",
       "    <tr>\n",
       "      <th>75%</th>\n",
       "      <td>NaN</td>\n",
       "      <td>NaN</td>\n",
       "      <td>NaN</td>\n",
       "      <td>NaN</td>\n",
       "      <td>5.000000</td>\n",
       "      <td>1.388966e+09</td>\n",
       "      <td>NaN</td>\n",
       "      <td>NaN</td>\n",
       "      <td>NaN</td>\n",
       "    </tr>\n",
       "    <tr>\n",
       "      <th>max</th>\n",
       "      <td>NaN</td>\n",
       "      <td>NaN</td>\n",
       "      <td>NaN</td>\n",
       "      <td>NaN</td>\n",
       "      <td>5.000000</td>\n",
       "      <td>1.405987e+09</td>\n",
       "      <td>NaN</td>\n",
       "      <td>NaN</td>\n",
       "      <td>NaN</td>\n",
       "    </tr>\n",
       "  </tbody>\n",
       "</table>\n",
       "</div>"
      ],
      "text/plain": [
       "           reviewerID        asin     reviewerName helpful       overall  \\\n",
       "count           10261       10261            10234   10261  10261.000000   \n",
       "unique           1429         900             1397     269           NaN   \n",
       "top     ADH0O8UVJOT10  B003VWJ2K8  Amazon Customer  [0, 0]           NaN   \n",
       "freq               42         163               66    6796           NaN   \n",
       "mean              NaN         NaN              NaN     NaN      4.488744   \n",
       "std               NaN         NaN              NaN     NaN      0.894642   \n",
       "min               NaN         NaN              NaN     NaN      1.000000   \n",
       "25%               NaN         NaN              NaN     NaN      4.000000   \n",
       "50%               NaN         NaN              NaN     NaN      5.000000   \n",
       "75%               NaN         NaN              NaN     NaN      5.000000   \n",
       "max               NaN         NaN              NaN     NaN      5.000000   \n",
       "\n",
       "        unixReviewTime   reviewTime                reviews sentiment  \n",
       "count     1.026100e+04        10261                  10261     10261  \n",
       "unique             NaN         1570                  10254         3  \n",
       "top                NaN  01 22, 2013  good string five star  Positive  \n",
       "freq               NaN           40                      3      9022  \n",
       "mean      1.360606e+09          NaN                    NaN       NaN  \n",
       "std       3.779735e+07          NaN                    NaN       NaN  \n",
       "min       1.095466e+09          NaN                    NaN       NaN  \n",
       "25%       1.343434e+09          NaN                    NaN       NaN  \n",
       "50%       1.368490e+09          NaN                    NaN       NaN  \n",
       "75%       1.388966e+09          NaN                    NaN       NaN  \n",
       "max       1.405987e+09          NaN                    NaN       NaN  "
      ]
     },
     "execution_count": 21,
     "metadata": {},
     "output_type": "execute_result"
    }
   ],
   "source": [
    "dataset.describe(include = \"all\")"
   ]
  },
  {
   "cell_type": "markdown",
   "metadata": {
    "id": "qMTeEjusp5LS"
   },
   "source": [
    "*Now, we will go back to statistic description of our dataset. Intuitively, the other features from our dataset does not really have any impact in determining our sentiment later. We might use the `helpful` part in our model, but as we can see from the description above, the top values of it is [0,0], which means that most users do not really take their votes in it. Because of it, we can also decide that we don't really need it in our model.*"
   ]
  },
  {
   "cell_type": "markdown",
   "metadata": {
    "id": "ONhs1ui4vYJb"
   },
   "source": [
    "**Polarity, Review Length, and Word Counts**"
   ]
  },
  {
   "cell_type": "markdown",
   "metadata": {
    "id": "kfXetkDivjgx"
   },
   "source": [
    "*To justify our analysis before, we will dive further into the dataset a bit more from the polarity of the texts, also from the words used in the reviews. We will generate some new columns in our dataset and visualize it.*"
   ]
  },
  {
   "cell_type": "markdown",
   "metadata": {
    "id": "lJL5rJjGvyKb"
   },
   "source": [
    "Polarity"
   ]
  },
  {
   "cell_type": "code",
   "execution_count": 22,
   "metadata": {
    "id": "RaKnF0Z-vvGZ"
   },
   "outputs": [],
   "source": [
    "dataset[\"polarity\"] = dataset[\"reviews\"].map(lambda Text: TextBlob(Text).sentiment.polarity)"
   ]
  },
  {
   "cell_type": "code",
   "execution_count": 23,
   "metadata": {
    "colab": {
     "base_uri": "https://localhost:8080/",
     "height": 375
    },
    "id": "oG7Y8CHaxMEY",
    "outputId": "1dfeb0b1-ff60-4b12-d84c-d9bbab0bf849"
   },
   "outputs": [
    {
     "data": {
      "image/png": "[encoded data removed]",
      "text/plain": [
       "<Figure size 720x360 with 1 Axes>"
      ]
     },
     "metadata": {
      "needs_background": "light"
     },
     "output_type": "display_data"
    }
   ],
   "source": [
    "dataset[\"polarity\"].plot(kind = \"hist\", bins = 40, edgecolor = \"blue\", linewidth = 1, color = \"orange\", figsize = (10,5))\r\n",
    "plt.title(\"Polarity Score in Reviews\", color = \"blue\", pad = 20)\r\n",
    "plt.xlabel(\"Polarity\", labelpad = 15, color = \"red\")\r\n",
    "plt.ylabel(\"Amount of Reviews\", labelpad = 20, color = \"green\")\r\n",
    "\r\n",
    "plt.show()"
   ]
  },
  {
   "cell_type": "markdown",
   "metadata": {
    "id": "P-_iMUe20WqM"
   },
   "source": [
    "*Reviews with negative polarity will be in range of [-1, 0), neutral ones will be 0.0, and positive reviews will have the range of (0, 1].*\r\n",
    "\r\n",
    "*From the histogram above, we know that most of the reviews are distributed in positive sentiments, meaning that what we extracted from our analysis before is true. Statistically, this histogram shows that our data is normally distributed, but not with standard distribution. In conclusion, we know for sure that our analysis about the amount of sentiments from the reviews is correct and corresponds to the histogram above.*"
   ]
  },
  {
   "cell_type": "markdown",
   "metadata": {
    "id": "mpgsWK4n1lw2"
   },
   "source": [
    "Review Length"
   ]
  },
  {
   "cell_type": "code",
   "execution_count": 24,
   "metadata": {
    "id": "ujgPvpuo1te5"
   },
   "outputs": [],
   "source": [
    "dataset[\"length\"] = dataset[\"reviews\"].astype(str).apply(len)"
   ]
  },
  {
   "cell_type": "code",
   "execution_count": 25,
   "metadata": {
    "colab": {
     "base_uri": "https://localhost:8080/",
     "height": 375
    },
    "id": "zxuKarc013I9",
    "outputId": "b961e004-99b2-45c0-e1bb-c43438e10877"
   },
   "outputs": [
    {
     "data": {
      "image/png": "[encoded data removed]",
      "text/plain": [
       "<Figure size 720x360 with 1 Axes>"
      ]
     },
     "metadata": {
      "needs_background": "light"
     },
     "output_type": "display_data"
    }
   ],
   "source": [
    "dataset[\"length\"].plot(kind = \"hist\", bins = 40, edgecolor = \"blue\", linewidth = 1, color = \"orange\", figsize = (10,5))\r\n",
    "plt.title(\"Length of Reviews\", color = \"blue\", pad = 20)\r\n",
    "plt.xlabel(\"Length\", labelpad = 15, color = \"red\")\r\n",
    "plt.ylabel(\"Amount of Reviews\", labelpad = 20, color = \"green\")\r\n",
    "\r\n",
    "plt.show()"
   ]
  },
  {
   "cell_type": "markdown",
   "metadata": {
    "id": "sGrlF5kP2YSw"
   },
   "source": [
    "*Based on this, we know that our review has text length between approximately 0-1000 characters. The distribution itself has positive skewness, or in other words it is skewed right, and this means that our reviews rarely has larger length than 1000 characters. Of course, the review that we use here is affected by the text preprocessing phase, so the length might not be the actual value of the review itself as some words might have been omitted already. This will also have the same effect when we count the tatal of words in our reviews.*"
   ]
  },
  {
   "cell_type": "markdown",
   "metadata": {
    "id": "rui0r-S_4Z5C"
   },
   "source": [
    "Word Counts"
   ]
  },
  {
   "cell_type": "code",
   "execution_count": 26,
   "metadata": {
    "id": "bONPL7pv4cv4"
   },
   "outputs": [],
   "source": [
    "dataset[\"word_counts\"] = dataset[\"reviews\"].apply(lambda x: len(str(x).split()))"
   ]
  },
  {
   "cell_type": "code",
   "execution_count": 27,
   "metadata": {
    "colab": {
     "base_uri": "https://localhost:8080/",
     "height": 375
    },
    "id": "BJXJGcqW42kr",
    "outputId": "0d89b19b-f274-4dc3-f4dd-bbe40841e82d"
   },
   "outputs": [
    {
     "data": {
      "image/png": "[encoded data removed]",
      "text/plain": [
       "<Figure size 720x360 with 1 Axes>"
      ]
     },
     "metadata": {
      "needs_background": "light"
     },
     "output_type": "display_data"
    }
   ],
   "source": [
    "dataset[\"word_counts\"].plot(kind = \"hist\", bins = 40, edgecolor = \"blue\", linewidth = 1, color = \"orange\", figsize = (10,5))\r\n",
    "plt.title(\"Word Counts in Reviews\", color = \"blue\", pad = 20)\r\n",
    "plt.xlabel(\"Word Counts\", labelpad = 15, color = \"red\")\r\n",
    "plt.ylabel(\"Amount of Reviews\", labelpad = 20, color = \"green\")\r\n",
    "\r\n",
    "plt.show()"
   ]
  },
  {
   "cell_type": "markdown",
   "metadata": {
    "id": "lkDp7CMl5Yn-"
   },
   "source": [
    "*From the figure above, we infer that most of the reviews consist of 0-200 words. Just like before, the distribution is skewed right and the calculation is affected by our text preprocessing phase before.*"
   ]
  },
  {
   "cell_type": "markdown",
   "metadata": {
    "id": "bwx3kkU0qNY8"
   },
   "source": [
    "\r\n",
    "\r\n",
    "---\r\n",
    "\r\n"
   ]
  },
  {
   "cell_type": "markdown",
   "metadata": {
    "id": "IIDduMBZyIJo"
   },
   "source": [
    "# N-Gram Analysis"
   ]
  },
  {
   "cell_type": "markdown",
   "metadata": {
    "id": "vUYkC5Aw7Slr"
   },
   "source": [
    "**N-Gram Function**"
   ]
  },
  {
   "cell_type": "code",
   "execution_count": 28,
   "metadata": {
    "id": "7D_yEr1S7R9-"
   },
   "outputs": [],
   "source": [
    "def Gram_Analysis(Corpus, Gram, N):\n",
    "  # Vectorizer\n",
    "  Vectorizer = CountVectorizer(stop_words = list(Stopwords), ngram_range=(Gram,Gram))\n",
    "  # Vectorizer = CountVectorizer(stop_words=\"english\", ngram_range=(Gram,Gram))\n",
    "\n",
    "  # N-Grams Matrix\n",
    "  ngrams = Vectorizer.fit_transform(Corpus)\n",
    "\n",
    "  # N-Grams Frequency\n",
    "  Count = ngrams.sum(axis=0)\n",
    "\n",
    "  # List of Words\n",
    "  words = [(word, Count[0, idx]) for word, idx in Vectorizer.vocabulary_.items()]\n",
    "\n",
    "  # Sort Descending With Key = Count\n",
    "  words = sorted(words, key = lambda x:x[1], reverse = True)\n",
    "\n",
    "  return words[:N]"
   ]
  },
  {
   "cell_type": "markdown",
   "metadata": {
    "id": "7Ff2343LhzFD"
   },
   "source": [
    "**Filter The DataFrame Based On Sentiments**"
   ]
  },
  {
   "cell_type": "code",
   "execution_count": 29,
   "metadata": {
    "id": "iL1OXVfniltT"
   },
   "outputs": [],
   "source": [
    "# Use dropna() so the base DataFrame is not affected\r\n",
    "Positive = dataset[dataset[\"sentiment\"] == \"Positive\"].dropna()\r\n",
    "Neutral = dataset[dataset[\"sentiment\"] == \"Neutral\"].dropna()\r\n",
    "Negative = dataset[dataset[\"sentiment\"] == \"Negative\"].dropna()"
   ]
  },
  {
   "cell_type": "markdown",
   "metadata": {
    "id": "Pb1d0XLWj6-S"
   },
   "source": [
    "**Unigram of Reviews Based on Sentiments**"
   ]
  },
  {
   "cell_type": "code",
   "execution_count": 30,
   "metadata": {
    "colab": {
     "base_uri": "https://localhost:8080/",
     "height": 382
    },
    "id": "U1Bq2hKy_kxd",
    "outputId": "a549c8cd-00e6-49e0-d9d1-421dbdc9d6d1"
   },
   "outputs": [
    {
     "data": {
      "image/png": "[encoded data removed]",
      "text/plain": [
       "<Figure size 720x360 with 1 Axes>"
      ]
     },
     "metadata": {
      "needs_background": "light"
     },
     "output_type": "display_data"
    }
   ],
   "source": [
    "# Finding Unigram\n",
    "\r\n",
    "words = Gram_Analysis(Positive[\"reviews\"], 1, 20)\r\n",
    "Unigram = pd.DataFrame(words, columns = [\"Words\", \"Counts\"])\r\n",
    "\r\n",
    "# Visualization\r\n",
    "Unigram.groupby(\"Words\").sum()[\"Counts\"].sort_values().plot(kind = \"barh\", color = \"green\", figsize = (10, 5))\r\n",
    "plt.title(\"Unigram of Reviews with Positive Sentiments\", loc = \"center\", fontsize = 15, color = \"blue\", pad = 25)\r\n",
    "plt.xlabel(\"Total Counts\", color = \"magenta\", fontsize = 10, labelpad = 15)\r\n",
    "plt.xticks(rotation = 0)\r\n",
    "plt.ylabel(\"Top Words\", color = \"cyan\", fontsize = 10, labelpad = 15)\r\n",
    "plt.show()"
   ]
  },
  {
   "cell_type": "code",
   "execution_count": 31,
   "metadata": {
    "colab": {
     "base_uri": "https://localhost:8080/",
     "height": 382
    },
    "id": "XpJ_sLxgmxU-",
    "outputId": "6a49b311-a473-4081-82c4-b66c8deb9708"
   },
   "outputs": [
    {
     "data": {
      "image/png": "[encoded data removed]",
      "text/plain": [
       "<Figure size 720x360 with 1 Axes>"
      ]
     },
     "metadata": {
      "needs_background": "light"
     },
     "output_type": "display_data"
    }
   ],
   "source": [
    "# Finding Unigram\r\n",
    "words = Gram_Analysis(Neutral[\"reviews\"], 1, 20)\r\n",
    "Unigram = pd.DataFrame(words, columns = [\"Words\", \"Counts\"])\r\n",
    "\r\n",
    "# Visualization\r\n",
    "Unigram.groupby(\"Words\").sum()[\"Counts\"].sort_values().plot(kind = \"barh\", color = \"orange\", figsize = (10, 5))\r\n",
    "plt.title(\"Unigram of Reviews with Neutral Sentiments\", loc = \"center\", fontsize = 15, color = \"blue\", pad = 25)\r\n",
    "plt.xlabel(\"Total Counts\", color = \"magenta\", fontsize = 10, labelpad = 15)\r\n",
    "plt.xticks(rotation = 0)\r\n",
    "plt.ylabel(\"Top Words\", color = \"cyan\", fontsize = 10, labelpad = 15)\r\n",
    "plt.show()"
   ]
  },
  {
   "cell_type": "code",
   "execution_count": 32,
   "metadata": {
    "colab": {
     "base_uri": "https://localhost:8080/",
     "height": 382
    },
    "id": "In6iKNqEjjlh",
    "outputId": "121eb149-c8e4-4dd3-c8c7-d78d894bfd43"
   },
   "outputs": [
    {
     "data": {
      "image/png": "[encoded data removed]",
      "text/plain": [
       "<Figure size 720x360 with 1 Axes>"
      ]
     },
     "metadata": {
      "needs_background": "light"
     },
     "output_type": "display_data"
    }
   ],
   "source": [
    "# Finding Unigram\r\n",
    "words = Gram_Analysis(Negative[\"reviews\"], 1, 20)\r\n",
    "Unigram = pd.DataFrame(words, columns = [\"Words\", \"Counts\"])\r\n",
    "\r\n",
    "# Visualization\r\n",
    "Unigram.groupby(\"Words\").sum()[\"Counts\"].sort_values().plot(kind = \"barh\", color = \"red\", figsize = (10, 5))\r\n",
    "plt.title(\"Unigram of Reviews with Negative Sentiments\", loc = \"center\", fontsize = 15, color = \"blue\", pad = 25)\r\n",
    "plt.xlabel(\"Total Counts\", color = \"magenta\", fontsize = 10, labelpad = 15)\r\n",
    "plt.xticks(rotation = 0)\r\n",
    "plt.ylabel(\"Top Words\", color = \"cyan\", fontsize = 10, labelpad = 15)\r\n",
    "plt.show()"
   ]
  },
  {
   "cell_type": "markdown",
   "metadata": {
    "id": "z_4SD31UoPxX"
   },
   "source": [
    "*These unigrams are not really accurate, because we can clearly see that even for postive sentiments, the top unigram is the wird `guitar` which is an object, though from here we might know that the most frequently bought items are guitars or the complement of it. We should try to find the bigram and see how accurate it can describe each sentiments*"
   ]
  },
  {
   "cell_type": "markdown",
   "metadata": {
    "id": "rSnI3JVPpAKM"
   },
   "source": [
    "**Bigram of Reviews Based On Sentiments**"
   ]
  },
  {
   "cell_type": "code",
   "execution_count": 33,
   "metadata": {
    "colab": {
     "base_uri": "https://localhost:8080/",
     "height": 382
    },
    "id": "2oIHS9y7pJf8",
    "outputId": "2cfcbb72-7f1e-4730-911d-2104d05430c9"
   },
   "outputs": [
    {
     "data": {
      "image/png": "[encoded data removed]",
      "text/plain": [
       "<Figure size 720x360 with 1 Axes>"
      ]
     },
     "metadata": {
      "needs_background": "light"
     },
     "output_type": "display_data"
    }
   ],
   "source": [
    "# Finding Bigram\r\n",
    "words = Gram_Analysis(Positive[\"reviews\"], 2, 20)\r\n",
    "Bigram = pd.DataFrame(words, columns = [\"Words\", \"Counts\"])\r\n",
    "\r\n",
    "# Visualization\r\n",
    "Bigram.groupby(\"Words\").sum()[\"Counts\"].sort_values().plot(kind = \"barh\", color = \"green\", figsize = (10, 5))\r\n",
    "plt.title(\"Bigram of Reviews with Positive Sentiments\", loc = \"center\", fontsize = 15, color = \"blue\", pad = 25)\r\n",
    "plt.xlabel(\"Total Counts\", color = \"magenta\", fontsize = 10, labelpad = 15)\r\n",
    "plt.xticks(rotation = 0)\r\n",
    "plt.ylabel(\"Top Words\", color = \"cyan\", fontsize = 10, labelpad = 15)\r\n",
    "plt.show()"
   ]
  },
  {
   "cell_type": "code",
   "execution_count": 34,
   "metadata": {
    "colab": {
     "base_uri": "https://localhost:8080/",
     "height": 382
    },
    "id": "nnhMg2rkpNpB",
    "outputId": "4791ae5f-ff0d-42dc-dab8-01379dc5faa0"
   },
   "outputs": [
    {
     "data": {
      "image/png": "[encoded data removed]",
      "text/plain": [
       "<Figure size 720x360 with 1 Axes>"
      ]
     },
     "metadata": {
      "needs_background": "light"
     },
     "output_type": "display_data"
    }
   ],
   "source": [
    "# Finding Bigram\r\n",
    "words = Gram_Analysis(Neutral[\"reviews\"], 2, 20)\r\n",
    "Bigram = pd.DataFrame(words, columns = [\"Words\", \"Counts\"])\r\n",
    "\r\n",
    "# Visualization\r\n",
    "Bigram.groupby(\"Words\").sum()[\"Counts\"].sort_values().plot(kind = \"barh\", color = \"orange\", figsize = (10, 5))\r\n",
    "plt.title(\"Bigram of Reviews with Neutral Sentiments\", loc = \"center\", fontsize = 15, color = \"blue\", pad = 25)\r\n",
    "plt.xlabel(\"Total Counts\", color = \"magenta\", fontsize = 10, labelpad = 15)\r\n",
    "plt.xticks(rotation = 0)\r\n",
    "plt.ylabel(\"Top Words\", color = \"cyan\", fontsize = 10, labelpad = 15)\r\n",
    "plt.show()"
   ]
  },
  {
   "cell_type": "code",
   "execution_count": 35,
   "metadata": {
    "colab": {
     "base_uri": "https://localhost:8080/",
     "height": 382
    },
    "id": "B35-wFxKpevY",
    "outputId": "d76fc7c8-4c47-4add-d251-87c3f712c3e8"
   },
   "outputs": [
    {
     "data": {
      "image/png": "[encoded data removed]",
      "text/plain": [
       "<Figure size 720x360 with 1 Axes>"
      ]
     },
     "metadata": {
      "needs_background": "light"
     },
     "output_type": "display_data"
    }
   ],
   "source": [
    "# Finding Bigram\r\n",
    "words = Gram_Analysis(Negative[\"reviews\"], 2, 20)\r\n",
    "Bigram = pd.DataFrame(words, columns = [\"Words\", \"Counts\"])\r\n",
    "\r\n",
    "# Visualization\r\n",
    "Bigram.groupby(\"Words\").sum()[\"Counts\"].sort_values().plot(kind = \"barh\", color = \"red\", figsize = (10, 5))\r\n",
    "plt.title(\"Bigram of Reviews with Negative Sentiments\", loc = \"center\", fontsize = 15, color = \"blue\", pad = 25)\r\n",
    "plt.xlabel(\"Total Counts\", color = \"magenta\", fontsize = 10, labelpad = 15)\r\n",
    "plt.xticks(rotation = 0)\r\n",
    "plt.ylabel(\"Top Words\", color = \"cyan\", fontsize = 10, labelpad = 15)\r\n",
    "plt.show()"
   ]
  },
  {
   "cell_type": "markdown",
   "metadata": {
    "id": "vjmo58yEragB"
   },
   "source": [
    "*The bigrams work better than the unigrams, because we can actually see some phrases that really describe what a good sentiment is. Although, in some parts we can still see guitar objects as the top words, which make us believe that our interpretation about the most selling items are related to guitars.*"
   ]
  },
  {
   "cell_type": "markdown",
   "metadata": {
    "id": "up8j4O_UtMZd"
   },
   "source": [
    "**Trigram of Reviews Based On Sentiments**"
   ]
  },
  {
   "cell_type": "code",
   "execution_count": 36,
   "metadata": {
    "colab": {
     "base_uri": "https://localhost:8080/",
     "height": 382
    },
    "id": "KBi4o3VKtN4K",
    "outputId": "6e93432a-57d8-45f5-d472-62f1e89b949c"
   },
   "outputs": [
    {
     "data": {
      "image/png": "[encoded data removed]",
      "text/plain": [
       "<Figure size 720x360 with 1 Axes>"
      ]
     },
     "metadata": {
      "needs_background": "light"
     },
     "output_type": "display_data"
    }
   ],
   "source": [
    "# Finding Trigram\r\n",
    "words = Gram_Analysis(Positive[\"reviews\"], 3, 20)\r\n",
    "Trigram = pd.DataFrame(words, columns = [\"Words\", \"Counts\"])\r\n",
    "\r\n",
    "# Visualization\r\n",
    "Trigram.groupby(\"Words\").sum()[\"Counts\"].sort_values().plot(kind = \"barh\", color = \"green\", figsize = (10, 5))\r\n",
    "plt.title(\"Trigram of Reviews with Positive Sentiments\", loc = \"center\", fontsize = 15, color = \"blue\", pad = 25)\r\n",
    "plt.xlabel(\"Total Counts\", color = \"magenta\", fontsize = 10, labelpad = 15)\r\n",
    "plt.xticks(rotation = 0)\r\n",
    "plt.ylabel(\"Top Words\", color = \"cyan\", fontsize = 10, labelpad = 15)\r\n",
    "plt.show()"
   ]
  },
  {
   "cell_type": "code",
   "execution_count": 37,
   "metadata": {
    "colab": {
     "base_uri": "https://localhost:8080/",
     "height": 382
    },
    "id": "wSKNXcentoTl",
    "outputId": "aa1dc9f6-2016-4906-d45b-036851889961"
   },
   "outputs": [
    {
     "data": {
      "image/png": "[encoded data removed]",
      "text/plain": [
       "<Figure size 720x360 with 1 Axes>"
      ]
     },
     "metadata": {
      "needs_background": "light"
     },
     "output_type": "display_data"
    }
   ],
   "source": [
    "# Finding Trigram\r\n",
    "words = Gram_Analysis(Neutral[\"reviews\"], 3, 20)\r\n",
    "Trigram = pd.DataFrame(words, columns = [\"Words\", \"Counts\"])\r\n",
    "\r\n",
    "# Visualization\r\n",
    "Trigram.groupby(\"Words\").sum()[\"Counts\"].sort_values().plot(kind = \"barh\", color = \"orange\", figsize = (10, 5))\r\n",
    "plt.title(\"Trigram of Reviews with Neutral Sentiments\", loc = \"center\", fontsize = 15, color = \"blue\", pad = 25)\r\n",
    "plt.xlabel(\"Total Counts\", color = \"magenta\", fontsize = 10, labelpad = 15)\r\n",
    "plt.xticks(rotation = 0)\r\n",
    "plt.ylabel(\"Top Words\", color = \"cyan\", fontsize = 10, labelpad = 15)\r\n",
    "plt.show()"
   ]
  },
  {
   "cell_type": "code",
   "execution_count": 38,
   "metadata": {
    "colab": {
     "base_uri": "https://localhost:8080/",
     "height": 382
    },
    "id": "VU126AKCt36p",
    "outputId": "2548b3a1-b5ff-4900-fd64-6379ddbbd006"
   },
   "outputs": [
    {
     "data": {
      "image/png": "[encoded data removed]",
      "text/plain": [
       "<Figure size 720x360 with 1 Axes>"
      ]
     },
     "metadata": {
      "needs_background": "light"
     },
     "output_type": "display_data"
    }
   ],
   "source": [
    "# Finding Trigram\r\n",
    "words = Gram_Analysis(Negative[\"reviews\"], 3, 20)\r\n",
    "Trigram = pd.DataFrame(words, columns = [\"Words\", \"Counts\"])\r\n",
    "\r\n",
    "# Visualization\r\n",
    "Trigram.groupby(\"Words\").sum()[\"Counts\"].sort_values().plot(kind = \"barh\", color = \"red\", figsize = (10, 5))\r\n",
    "plt.title(\"Trigram of Reviews with Negative Sentiments\", loc = \"center\", fontsize = 15, color = \"blue\", pad = 25)\r\n",
    "plt.xlabel(\"Total Counts\", color = \"magenta\", fontsize = 10, labelpad = 15)\r\n",
    "plt.xticks(rotation = 0)\r\n",
    "plt.ylabel(\"Top Words\", color = \"cyan\", fontsize = 10, labelpad = 15)\r\n",
    "plt.show()"
   ]
  },
  {
   "cell_type": "markdown",
   "metadata": {
    "id": "6paA10twuK9q"
   },
   "source": [
    "*We can say that the trigrams are slightly better to describe each sentiments, although negative trigrams say a lot about bad products which we can infer from the top words above. From the N-Gram Analysis, we can also see how the decision of not removing `not` in our list of stopwords affects our data as we keep the meaning of negation phrases.*"
   ]
  },
  {
   "cell_type": "markdown",
   "metadata": {
    "id": "7VKfgfFV4wWc"
   },
   "source": [
    "\r\n",
    "\r\n",
    "---\r\n",
    "\r\n"
   ]
  },
  {
   "cell_type": "markdown",
   "metadata": {
    "id": "Rj01PMJZzL7P"
   },
   "source": [
    "# Word Clouds"
   ]
  },
  {
   "cell_type": "markdown",
   "metadata": {
    "id": "2NZnM8c6zi-a"
   },
   "source": [
    "**Word Cloud of Reviews with Positive Sentiments**"
   ]
  },
  {
   "cell_type": "code",
   "execution_count": 53,
   "metadata": {
    "colab": {
     "base_uri": "https://localhost:8080/",
     "height": 449
    },
    "id": "AEHji5Y20hrt",
    "outputId": "ef14bb92-87c8-42b3-a531-0da334695f9a"
   },
   "outputs": [
    {
     "ename": "ValueError",
     "evalue": "Only supported for TrueType fonts",
     "output_type": "error",
     "traceback": [
      "\u001b[0;31m---------------------------------------------------------------------------\u001b[0m",
      "\u001b[0;31mValueError\u001b[0m                                Traceback (most recent call last)",
      "\u001b[0;32m/tmp/ipykernel_34668/3112619058.py\u001b[0m in \u001b[0;36m<module>\u001b[0;34m\u001b[0m\n\u001b[1;32m      1\u001b[0m \u001b[0;32mfrom\u001b[0m \u001b[0mwordcloud\u001b[0m \u001b[0;32mimport\u001b[0m \u001b[0mWordCloud\u001b[0m\u001b[0;34m\u001b[0m\u001b[0;34m\u001b[0m\u001b[0m\n\u001b[0;32m----> 2\u001b[0;31m \u001b[0mwordCloud\u001b[0m \u001b[0;34m=\u001b[0m \u001b[0mWordCloud\u001b[0m\u001b[0;34m(\u001b[0m\u001b[0mmax_words\u001b[0m \u001b[0;34m=\u001b[0m \u001b[0;36m50\u001b[0m\u001b[0;34m,\u001b[0m \u001b[0mwidth\u001b[0m \u001b[0;34m=\u001b[0m \u001b[0;36m3000\u001b[0m\u001b[0;34m,\u001b[0m \u001b[0mheight\u001b[0m \u001b[0;34m=\u001b[0m \u001b[0;36m1500\u001b[0m\u001b[0;34m,\u001b[0m \u001b[0mstopwords\u001b[0m \u001b[0;34m=\u001b[0m \u001b[0mlist\u001b[0m\u001b[0;34m(\u001b[0m\u001b[0mStopwords\u001b[0m\u001b[0;34m)\u001b[0m\u001b[0;34m)\u001b[0m\u001b[0;34m.\u001b[0m\u001b[0mgenerate\u001b[0m\u001b[0;34m(\u001b[0m\u001b[0mstr\u001b[0m\u001b[0;34m(\u001b[0m\u001b[0mPositive\u001b[0m\u001b[0;34m[\u001b[0m\u001b[0;34m\"reviews\"\u001b[0m\u001b[0;34m]\u001b[0m\u001b[0;34m)\u001b[0m\u001b[0;34m)\u001b[0m\u001b[0;34m\u001b[0m\u001b[0;34m\u001b[0m\u001b[0m\n\u001b[0m\u001b[1;32m      3\u001b[0m \u001b[0mplt\u001b[0m\u001b[0;34m.\u001b[0m\u001b[0mfigure\u001b[0m\u001b[0;34m(\u001b[0m\u001b[0mfigsize\u001b[0m \u001b[0;34m=\u001b[0m \u001b[0;34m(\u001b[0m\u001b[0;36m15\u001b[0m\u001b[0;34m,\u001b[0m \u001b[0;36m15\u001b[0m\u001b[0;34m)\u001b[0m\u001b[0;34m)\u001b[0m\u001b[0;34m\u001b[0m\u001b[0;34m\u001b[0m\u001b[0m\n\u001b[1;32m      4\u001b[0m \u001b[0mplt\u001b[0m\u001b[0;34m.\u001b[0m\u001b[0mimshow\u001b[0m\u001b[0;34m(\u001b[0m\u001b[0mwordCloud\u001b[0m\u001b[0;34m,\u001b[0m \u001b[0minterpolation\u001b[0m \u001b[0;34m=\u001b[0m \u001b[0;34m\"bilinear\"\u001b[0m\u001b[0;34m)\u001b[0m\u001b[0;34m\u001b[0m\u001b[0;34m\u001b[0m\u001b[0m\n\u001b[1;32m      5\u001b[0m \u001b[0mplt\u001b[0m\u001b[0;34m.\u001b[0m\u001b[0maxis\u001b[0m\u001b[0;34m(\u001b[0m\u001b[0;34m\"off\"\u001b[0m\u001b[0;34m)\u001b[0m\u001b[0;34m\u001b[0m\u001b[0;34m\u001b[0m\u001b[0m\n",
      "\u001b[0;32m~/.local/lib/python3.8/site-packages/wordcloud/wordcloud.py\u001b[0m in \u001b[0;36mgenerate\u001b[0;34m(self, text)\u001b[0m\n\u001b[1;32m    637\u001b[0m                              \" first.\")\n\u001b[1;32m    638\u001b[0m \u001b[0;34m\u001b[0m\u001b[0m\n\u001b[0;32m--> 639\u001b[0;31m     \u001b[0;32mdef\u001b[0m \u001b[0mto_image\u001b[0m\u001b[0;34m(\u001b[0m\u001b[0mself\u001b[0m\u001b[0;34m)\u001b[0m\u001b[0;34m:\u001b[0m\u001b[0;34m\u001b[0m\u001b[0;34m\u001b[0m\u001b[0m\n\u001b[0m\u001b[1;32m    640\u001b[0m         \u001b[0mself\u001b[0m\u001b[0;34m.\u001b[0m\u001b[0m_check_generated\u001b[0m\u001b[0;34m(\u001b[0m\u001b[0;34m)\u001b[0m\u001b[0;34m\u001b[0m\u001b[0;34m\u001b[0m\u001b[0m\n\u001b[1;32m    641\u001b[0m         \u001b[0;32mif\u001b[0m \u001b[0mself\u001b[0m\u001b[0;34m.\u001b[0m\u001b[0mmask\u001b[0m \u001b[0;32mis\u001b[0m \u001b[0;32mnot\u001b[0m \u001b[0;32mNone\u001b[0m\u001b[0;34m:\u001b[0m\u001b[0;34m\u001b[0m\u001b[0;34m\u001b[0m\u001b[0m\n",
      "\u001b[0;32m~/.local/lib/python3.8/site-packages/wordcloud/wordcloud.py\u001b[0m in \u001b[0;36mgenerate_from_text\u001b[0;34m(self, text)\u001b[0m\n\u001b[1;32m    619\u001b[0m         \u001b[0mThe\u001b[0m \u001b[0minput\u001b[0m \u001b[0;34m\"text\"\u001b[0m \u001b[0;32mis\u001b[0m \u001b[0mexpected\u001b[0m \u001b[0mto\u001b[0m \u001b[0mbe\u001b[0m \u001b[0ma\u001b[0m \u001b[0mnatural\u001b[0m \u001b[0mtext\u001b[0m\u001b[0;34m.\u001b[0m \u001b[0mIf\u001b[0m \u001b[0myou\u001b[0m \u001b[0;32mpass\u001b[0m \u001b[0ma\u001b[0m \u001b[0msorted\u001b[0m\u001b[0;34m\u001b[0m\u001b[0;34m\u001b[0m\u001b[0m\n\u001b[1;32m    620\u001b[0m         \u001b[0mlist\u001b[0m \u001b[0mof\u001b[0m \u001b[0mwords\u001b[0m\u001b[0;34m,\u001b[0m \u001b[0mwords\u001b[0m \u001b[0mwill\u001b[0m \u001b[0mappear\u001b[0m \u001b[0;32min\u001b[0m \u001b[0myour\u001b[0m \u001b[0moutput\u001b[0m \u001b[0mtwice\u001b[0m\u001b[0;34m.\u001b[0m \u001b[0mTo\u001b[0m \u001b[0mremove\u001b[0m \u001b[0mthis\u001b[0m\u001b[0;34m\u001b[0m\u001b[0;34m\u001b[0m\u001b[0m\n\u001b[0;32m--> 621\u001b[0;31m         \u001b[0mduplication\u001b[0m\u001b[0;34m,\u001b[0m \u001b[0mset\u001b[0m\u001b[0;31m \u001b[0m\u001b[0;31m`\u001b[0m\u001b[0;31m`\u001b[0m\u001b[0mcollocations\u001b[0m\u001b[0;34m=\u001b[0m\u001b[0;32mFalse\u001b[0m\u001b[0;31m`\u001b[0m\u001b[0;31m`\u001b[0m\u001b[0;34m.\u001b[0m\u001b[0;34m\u001b[0m\u001b[0;34m\u001b[0m\u001b[0m\n\u001b[0m\u001b[1;32m    622\u001b[0m \u001b[0;34m\u001b[0m\u001b[0m\n\u001b[1;32m    623\u001b[0m         \u001b[0mAlias\u001b[0m \u001b[0mto\u001b[0m \u001b[0mgenerate_from_text\u001b[0m\u001b[0;34m.\u001b[0m\u001b[0;34m\u001b[0m\u001b[0;34m\u001b[0m\u001b[0m\n",
      "\u001b[0;32m~/.local/lib/python3.8/site-packages/wordcloud/wordcloud.py\u001b[0m in \u001b[0;36mgenerate_from_frequencies\u001b[0;34m(self, frequencies, max_font_size)\u001b[0m\n\u001b[1;32m    451\u001b[0m                     font_size = int(2 * sizes[0] * sizes[1]\n\u001b[1;32m    452\u001b[0m                                     / (sizes[0] + sizes[1]))\n\u001b[0;32m--> 453\u001b[0;31m                 \u001b[0;31m# quick fix for if self.layout_ contains less than 2 values\u001b[0m\u001b[0;34m\u001b[0m\u001b[0;34m\u001b[0m\u001b[0;34m\u001b[0m\u001b[0m\n\u001b[0m\u001b[1;32m    454\u001b[0m                 \u001b[0;31m# on very small images it can be empty\u001b[0m\u001b[0;34m\u001b[0m\u001b[0;34m\u001b[0m\u001b[0;34m\u001b[0m\u001b[0m\n\u001b[1;32m    455\u001b[0m                 \u001b[0;32mexcept\u001b[0m \u001b[0mIndexError\u001b[0m\u001b[0;34m:\u001b[0m\u001b[0;34m\u001b[0m\u001b[0;34m\u001b[0m\u001b[0m\n",
      "\u001b[0;32m~/.local/lib/python3.8/site-packages/wordcloud/wordcloud.py\u001b[0m in \u001b[0;36mgenerate_from_frequencies\u001b[0;34m(self, frequencies, max_font_size)\u001b[0m\n\u001b[1;32m    506\u001b[0m                 \u001b[0;32mif\u001b[0m \u001b[0mresult\u001b[0m \u001b[0;32mis\u001b[0m \u001b[0;32mnot\u001b[0m \u001b[0;32mNone\u001b[0m \u001b[0;32mor\u001b[0m \u001b[0mfont_size\u001b[0m \u001b[0;34m<\u001b[0m \u001b[0mself\u001b[0m\u001b[0;34m.\u001b[0m\u001b[0mmin_font_size\u001b[0m\u001b[0;34m:\u001b[0m\u001b[0;34m\u001b[0m\u001b[0;34m\u001b[0m\u001b[0m\n\u001b[1;32m    507\u001b[0m                     \u001b[0;31m# either we found a place or font-size went too small\u001b[0m\u001b[0;34m\u001b[0m\u001b[0;34m\u001b[0m\u001b[0;34m\u001b[0m\u001b[0m\n\u001b[0;32m--> 508\u001b[0;31m                     \u001b[0;32mbreak\u001b[0m\u001b[0;34m\u001b[0m\u001b[0;34m\u001b[0m\u001b[0m\n\u001b[0m\u001b[1;32m    509\u001b[0m                 \u001b[0;31m# if we didn't find a place, make font smaller\u001b[0m\u001b[0;34m\u001b[0m\u001b[0;34m\u001b[0m\u001b[0;34m\u001b[0m\u001b[0m\n\u001b[1;32m    510\u001b[0m                 \u001b[0;31m# but first try to rotate!\u001b[0m\u001b[0;34m\u001b[0m\u001b[0;34m\u001b[0m\u001b[0;34m\u001b[0m\u001b[0m\n",
      "\u001b[0;32m/Applications/JupyterLab.app/Contents/Resources/jlab_server/lib/python3.8/site-packages/PIL/ImageDraw.py\u001b[0m in \u001b[0;36mtextbbox\u001b[0;34m(self, xy, text, font, anchor, spacing, align, direction, features, language, stroke_width, embedded_color)\u001b[0m\n\u001b[1;32m    649\u001b[0m             \u001b[0mfont\u001b[0m \u001b[0;34m=\u001b[0m \u001b[0mself\u001b[0m\u001b[0;34m.\u001b[0m\u001b[0mgetfont\u001b[0m\u001b[0;34m(\u001b[0m\u001b[0;34m)\u001b[0m\u001b[0;34m\u001b[0m\u001b[0;34m\u001b[0m\u001b[0m\n\u001b[1;32m    650\u001b[0m         \u001b[0;32mif\u001b[0m \u001b[0;32mnot\u001b[0m \u001b[0misinstance\u001b[0m\u001b[0;34m(\u001b[0m\u001b[0mfont\u001b[0m\u001b[0;34m,\u001b[0m \u001b[0mImageFont\u001b[0m\u001b[0;34m.\u001b[0m\u001b[0mFreeTypeFont\u001b[0m\u001b[0;34m)\u001b[0m\u001b[0;34m:\u001b[0m\u001b[0;34m\u001b[0m\u001b[0;34m\u001b[0m\u001b[0m\n\u001b[0;32m--> 651\u001b[0;31m             \u001b[0;32mraise\u001b[0m \u001b[0mValueError\u001b[0m\u001b[0;34m(\u001b[0m\u001b[0;34m\"Only supported for TrueType fonts\"\u001b[0m\u001b[0;34m)\u001b[0m\u001b[0;34m\u001b[0m\u001b[0;34m\u001b[0m\u001b[0m\n\u001b[0m\u001b[1;32m    652\u001b[0m         \u001b[0mmode\u001b[0m \u001b[0;34m=\u001b[0m \u001b[0;34m\"RGBA\"\u001b[0m \u001b[0;32mif\u001b[0m \u001b[0membedded_color\u001b[0m \u001b[0;32melse\u001b[0m \u001b[0mself\u001b[0m\u001b[0;34m.\u001b[0m\u001b[0mfontmode\u001b[0m\u001b[0;34m\u001b[0m\u001b[0;34m\u001b[0m\u001b[0m\n\u001b[1;32m    653\u001b[0m         bbox = font.getbbox(\n",
      "\u001b[0;31mValueError\u001b[0m: Only supported for TrueType fonts"
     ]
    }
   ],
   "source": [
    "from wordcloud import WordCloud\n",
    "wordCloud = WordCloud(max_words = 50, width = 3000, height = 1500, stopwords = list(Stopwords)).generate(str(Positive[\"reviews\"]))\r\n",
    "plt.figure(figsize = (15, 15))\r\n",
    "plt.imshow(wordCloud, interpolation = \"bilinear\")\r\n",
    "plt.axis(\"off\")\r\n",
    "plt.show()"
   ]
  },
  {
   "cell_type": "markdown",
   "metadata": {
    "id": "-dAiVeMT34kn"
   },
   "source": [
    "**Word Cloud of Reviews with Neutral Sentiments**"
   ]
  },
  {
   "cell_type": "code",
   "execution_count": null,
   "metadata": {
    "colab": {
     "base_uri": "https://localhost:8080/",
     "height": 449
    },
    "id": "4GDTtnAh4ALi",
    "outputId": "76443ae0-0d47-47d2-f0ab-565d20b1dc32"
   },
   "outputs": [],
   "source": [
    "wordCloud = WordCloud(max_words = 50, width = 3000, height = 1500, stopwords = Stopwords).generate(str(Neutral[\"reviews\"]))\r\n",
    "plt.figure(figsize = (15, 15))\r\n",
    "plt.imshow(wordCloud, interpolation = \"bilinear\")\r\n",
    "plt.axis(\"off\")\r\n",
    "plt.show()"
   ]
  },
  {
   "cell_type": "markdown",
   "metadata": {
    "id": "IVp22Sco4EvW"
   },
   "source": [
    "**Word Cloud of Reviews with Negative Sentiments**"
   ]
  },
  {
   "cell_type": "code",
   "execution_count": null,
   "metadata": {
    "colab": {
     "base_uri": "https://localhost:8080/",
     "height": 449
    },
    "id": "nAToVGfB4EIf",
    "outputId": "d17d056d-3459-4029-a7bb-008bddcdb2a3"
   },
   "outputs": [],
   "source": [
    "wordCloud = WordCloud(max_words = 50, width = 3000, height = 1500, stopwords = Stopwords).generate(str(Negative[\"reviews\"]))\r\n",
    "plt.figure(figsize = (15, 15))\r\n",
    "plt.imshow(wordCloud, interpolation = \"bilinear\")\r\n",
    "plt.axis(\"off\")\r\n",
    "plt.show()"
   ]
  },
  {
   "cell_type": "markdown",
   "metadata": {
    "id": "4HI_mP3V4K4_"
   },
   "source": [
    "*From these word clouds, not only we can see words that really describe our sentiments, but just like our N-Grams Analysis we can see objects being discussed in the reviews given.*"
   ]
  },
  {
   "cell_type": "markdown",
   "metadata": {
    "id": "Anj8JI4W4yGk"
   },
   "source": [
    "\r\n",
    "\r\n",
    "---\r\n",
    "\r\n"
   ]
  },
  {
   "cell_type": "markdown",
   "metadata": {
    "id": "2IGnAVPCzHn4"
   },
   "source": [
    "# Feature Engineering"
   ]
  },
  {
   "cell_type": "markdown",
   "metadata": {
    "id": "SFxgcUyXvdNy"
   },
   "source": [
    "**Drop Insignificant Columns**"
   ]
  },
  {
   "cell_type": "code",
   "execution_count": null,
   "metadata": {
    "id": "lBRuOTa5rqnH"
   },
   "outputs": [],
   "source": [
    "Columns = [\"reviewerID\", \"asin\", \"reviewerName\", \"helpful\", \"unixReviewTime\", \"reviewTime\", \"polarity\", \"length\", \"word_counts\", \"overall\"]\r\n",
    "dataset.drop(columns = Columns, axis = 1, inplace = True)"
   ]
  },
  {
   "cell_type": "markdown",
   "metadata": {
    "id": "uodzSU3npOnx"
   },
   "source": [
    "*We dropped these columns to make our dataset concise. We now have two columns as our independent variables and the last column as dependent variables. To continue, we must encode our label as a set of numbers corresponding to each categories of it.*"
   ]
  },
  {
   "cell_type": "markdown",
   "metadata": {
    "id": "-ZMN_krlO9V8"
   },
   "source": [
    "**Current State of The Dataset**"
   ]
  },
  {
   "cell_type": "code",
   "execution_count": null,
   "metadata": {
    "colab": {
     "base_uri": "https://localhost:8080/",
     "height": 195
    },
    "id": "qef_ONDPO8EA",
    "outputId": "5d2fde46-2f9a-4f63-98a8-2ee115907931"
   },
   "outputs": [],
   "source": [
    "dataset.head()"
   ]
  },
  {
   "cell_type": "markdown",
   "metadata": {
    "id": "BxSGQHFBSRyB"
   },
   "source": [
    "**Encoding Our Target Variable**"
   ]
  },
  {
   "cell_type": "code",
   "execution_count": null,
   "metadata": {
    "id": "7WtLy2ndSXnh"
   },
   "outputs": [],
   "source": [
    "Encoder = LabelEncoder()\r\n",
    "dataset[\"sentiment\"] = Encoder.fit_transform(dataset[\"sentiment\"])"
   ]
  },
  {
   "cell_type": "code",
   "execution_count": null,
   "metadata": {
    "colab": {
     "base_uri": "https://localhost:8080/"
    },
    "id": "nNEi0k9YS2Rs",
    "outputId": "fb8ad1cf-9249-4274-c6ba-352859e4624e"
   },
   "outputs": [],
   "source": [
    "dataset[\"sentiment\"].value_counts()"
   ]
  },
  {
   "cell_type": "markdown",
   "metadata": {
    "id": "hcgp_u45TNLA"
   },
   "source": [
    "*We had successfully encoded our sentiment into numbers so that our model can easily figure it out. From above, we know that the label `Positive` is encoded into 2, `Neutral` into 1, and `Negative` into 0. Now, we have to give importance of each words in the whole review, i.e. giving them weights. We can do this by using TF-IDF (Term Frequency - Inverse Document Frequency) Vectorizer.*"
   ]
  },
  {
   "cell_type": "markdown",
   "metadata": {
    "id": "tN-4FUIoUykS"
   },
   "source": [
    "**TF-IDF Vectorizer**"
   ]
  },
  {
   "cell_type": "code",
   "execution_count": null,
   "metadata": {
    "colab": {
     "base_uri": "https://localhost:8080/"
    },
    "id": "e-goqiicUxn0",
    "outputId": "c36494e7-e6ff-4d53-ace2-f6f215b9a54a"
   },
   "outputs": [],
   "source": [
    "# Defining our vectorizer with total words of 5000 and with bigram model\r\n",
    "TF_IDF = TfidfVectorizer(max_features = 5000, ngram_range = (2, 2))\r\n",
    "\r\n",
    "# Fitting and transforming our reviews into a matrix of weighed words\r\n",
    "# This will be our independent features\r\n",
    "X = TF_IDF.fit_transform(dataset[\"reviews\"])\r\n",
    "\r\n",
    "# Check our matrix shape\r\n",
    "X.shape"
   ]
  },
  {
   "cell_type": "code",
   "execution_count": null,
   "metadata": {
    "id": "mWsg-pk0X-s6"
   },
   "outputs": [],
   "source": [
    "# Declaring our target variable\r\n",
    "y = dataset[\"sentiment\"]"
   ]
  },
  {
   "cell_type": "markdown",
   "metadata": {
    "id": "Tw_B_VoUWfTW"
   },
   "source": [
    "*From the shape, we successfully transformed our reviews with TF-IDF Vectorizer of 7000 top bigram words. Now, as we know from before, our data is kind of imbalanced with very little neutral and negative values compared to positive sentiments. We need to balance our dataset before going into modelling process.*"
   ]
  },
  {
   "cell_type": "markdown",
   "metadata": {
    "id": "_Hy3K0e9YHWu"
   },
   "source": [
    "**Resampling Our Dataset**"
   ]
  },
  {
   "cell_type": "markdown",
   "metadata": {
    "id": "R1vqIWbKYK_2"
   },
   "source": [
    "*There are many ways to do resampling to an imbalanced dataset, such as SMOTE and Bootstrap Method. We will use SMOTE (Synthetic Minority Oversampling Technique) that will randomly generate new replicates of our undersampling data to balance our dataset.*"
   ]
  },
  {
   "cell_type": "code",
   "execution_count": null,
   "metadata": {
    "colab": {
     "base_uri": "https://localhost:8080/"
    },
    "id": "52ccFK9Xa67W",
    "outputId": "1cb0e77d-719c-40dc-f93c-73f04d428eb2"
   },
   "outputs": [],
   "source": [
    "Counter(y)"
   ]
  },
  {
   "cell_type": "code",
   "execution_count": null,
   "metadata": {
    "colab": {
     "base_uri": "https://localhost:8080/"
    },
    "id": "43Cx9Se-YGdq",
    "outputId": "90c05b19-ca8b-4c89-bf8c-12454ce80c41"
   },
   "outputs": [],
   "source": [
    "Balancer = SMOTE(random_state = 42)\r\n",
    "X_final, y_final = Balancer.fit_resample(X, y)"
   ]
  },
  {
   "cell_type": "code",
   "execution_count": null,
   "metadata": {
    "colab": {
     "base_uri": "https://localhost:8080/"
    },
    "id": "OwTkzRzZZanA",
    "outputId": "547caf7d-f904-47d5-f35c-ec35017e458f"
   },
   "outputs": [],
   "source": [
    "Counter(y_final)"
   ]
  },
  {
   "cell_type": "markdown",
   "metadata": {
    "id": "DQBmnh4zb6MB"
   },
   "source": [
    "*Now our data is already balanced as we can see from the counter of each sentiment categories before and after the resampling with SMOTE.*"
   ]
  },
  {
   "cell_type": "markdown",
   "metadata": {
    "id": "vgyY6IaxcdKf"
   },
   "source": [
    "**Splitting Our Dataset**"
   ]
  },
  {
   "cell_type": "code",
   "execution_count": null,
   "metadata": {
    "id": "hborTgZccgaZ"
   },
   "outputs": [],
   "source": [
    "X_train, X_test, y_train, y_test = train_test_split(X_final, y_final, test_size = 0.25, random_state = 42)"
   ]
  },
  {
   "cell_type": "markdown",
   "metadata": {
    "id": "UddzYtN_dPxO"
   },
   "source": [
    "*We splitted our dataset into 75:25 portion respectively for the training and test set.*"
   ]
  },
  {
   "cell_type": "markdown",
   "metadata": {
    "id": "xKRl6lLj40Eh"
   },
   "source": [
    "\r\n",
    "\r\n",
    "---\r\n",
    "\r\n"
   ]
  },
  {
   "cell_type": "markdown",
   "metadata": {
    "id": "7X6-FYlYeJO5"
   },
   "source": [
    "# Model Selection and Evaluation"
   ]
  },
  {
   "cell_type": "markdown",
   "metadata": {
    "id": "HbzB2Z6weOgM"
   },
   "source": [
    "*We do not really know what is the best model that fits our data well. Because of that, we will need to try every classification models available and find the best models using the Confusion Matrix and F1 Score as our main metrics, and the rest of the metrics as our support. First, we should do some cross validation techniques in order to find the best model.*"
   ]
  },
  {
   "cell_type": "markdown",
   "metadata": {
    "id": "sf_pPZInhBJ0"
   },
   "source": [
    "**Model Building**"
   ]
  },
  {
   "cell_type": "markdown",
   "metadata": {
    "id": "1cpWmzCh5u5o"
   },
   "source": [
    "*We are using K-Fold Cross Validation on our early dataset (before resampling) because the CV itself is not affected by the imbalanced dataset as it splits the dataset and takes into account every validations. If we use the CV on the balanced dataset that we got from resampling we should be able to get similar result.*"
   ]
  },
  {
   "cell_type": "code",
   "execution_count": null,
   "metadata": {
    "colab": {
     "base_uri": "https://localhost:8080/"
    },
    "id": "vQ-F3XV5hAnt",
    "outputId": "9b3e5581-9436-438e-cb32-b479a0b2ce14"
   },
   "outputs": [],
   "source": [
    "DTree = DecisionTreeClassifier()\r\n",
    "LogReg = LogisticRegression()\r\n",
    "SVC = SVC()\r\n",
    "RForest = RandomForestClassifier()\r\n",
    "Bayes = BernoulliNB()\r\n",
    "KNN = KNeighborsClassifier()\r\n",
    "\r\n",
    "Models = [DTree, LogReg, SVC, RForest, Bayes, KNN]\r\n",
    "Models_Dict = {0: \"Decision Tree\", 1: \"Logistic Regression\", 2: \"SVC\", 3: \"Random Forest\", 4: \"Naive Bayes\", 5: \"K-Neighbors\"}\r\n",
    "\r\n",
    "for i, model in enumerate(Models):\r\n",
    "  print(\"{} Test Accuracy: {}\".format(Models_Dict[i], cross_val_score(model, X, y, cv = 10, scoring = \"accuracy\").mean()))"
   ]
  },
  {
   "cell_type": "markdown",
   "metadata": {
    "id": "-WQKgchn6Go_"
   },
   "source": [
    "*We got six models on our sleeves and from the results of 10-Fold Cross Validation, we know that the `Logistic Regression` model is the best model with the highest accuracy, slightly beating the `SVC`. Because of this, we will use the best model in predicting our sentiment, also to tune our parameter and evaluate the end-result of how well the model works.*"
   ]
  },
  {
   "cell_type": "markdown",
   "metadata": {
    "id": "smCQV1iar4vt"
   },
   "source": [
    "**Hyperparameter Tuning**"
   ]
  },
  {
   "cell_type": "code",
   "execution_count": null,
   "metadata": {
    "colab": {
     "base_uri": "https://localhost:8080/"
    },
    "id": "0AabDLn0r7yX",
    "outputId": "0e83a7ec-4e50-4f71-cded-7f52294c5e2e"
   },
   "outputs": [],
   "source": [
    "Param = {\"C\": np.logspace(-4, 4, 50), \"penalty\": ['l1', 'l2']}\r\n",
    "grid_search = GridSearchCV(estimator = LogisticRegression(random_state = 42), param_grid = Param, scoring = \"accuracy\", cv = 10, verbose = 0, n_jobs = -1)\r\n",
    "\r\n",
    "grid_search.fit(X_train, y_train)\r\n",
    "best_accuracy = grid_search.best_score_\r\n",
    "best_parameters = grid_search.best_params_\r\n",
    "\r\n",
    "print(\"Best Accuracy: {:.2f} %\".format(best_accuracy*100))\r\n",
    "print(\"Best Parameters:\", best_parameters)"
   ]
  },
  {
   "cell_type": "markdown",
   "metadata": {
    "id": "t-L20RgIvxlC"
   },
   "source": [
    "*We got a nice accuracy on our training set, which is 94.80% and from our Grid Search, we are also able to find our optimal hyperparameters. It is time to finish our model using these parameters to get the best model of Logistic Regression.*"
   ]
  },
  {
   "cell_type": "markdown",
   "metadata": {
    "id": "XosBBQxgCqpS"
   },
   "source": [
    "**Best Model**"
   ]
  },
  {
   "cell_type": "code",
   "execution_count": null,
   "metadata": {
    "colab": {
     "base_uri": "https://localhost:8080/"
    },
    "id": "jEddDzCQCueI",
    "outputId": "5e9b8850-8eb5-47e9-a03c-0d6615572899"
   },
   "outputs": [],
   "source": [
    "Classifier = LogisticRegression(random_state = 42, C = 6866.488450042998, penalty = 'l2')\r\n",
    "Classifier.fit(X_train, y_train)\r\n",
    "\r\n",
    "Prediction = Classifier.predict(X_test)"
   ]
  },
  {
   "cell_type": "markdown",
   "metadata": {
    "id": "OqWMpjL2xCHt"
   },
   "source": [
    "*Now that our model is done, we will test our model on our test set. The metrics that we will evaluate is based on this prediction that we made here.*"
   ]
  },
  {
   "cell_type": "markdown",
   "metadata": {
    "id": "x98T1PtIoESm"
   },
   "source": [
    "**Metrics**"
   ]
  },
  {
   "cell_type": "markdown",
   "metadata": {
    "id": "mPqayCouHxTE"
   },
   "source": [
    "Accuracy On Test Set"
   ]
  },
  {
   "cell_type": "code",
   "execution_count": null,
   "metadata": {
    "colab": {
     "base_uri": "https://localhost:8080/"
    },
    "id": "_SVcygL6Hyj5",
    "outputId": "42d027db-9f5d-4e48-8b15-d44789f2fe58"
   },
   "outputs": [],
   "source": [
    "accuracy_score(y_test, Prediction)"
   ]
  },
  {
   "cell_type": "markdown",
   "metadata": {
    "id": "SovP_zJvxMsE"
   },
   "source": [
    "*Really high accuracy that we got here, 95.21%. Still, we need to look out for the Confusion Matrix and F1 Score to find out about our model performance.*"
   ]
  },
  {
   "cell_type": "markdown",
   "metadata": {
    "id": "yRV__euroIBW"
   },
   "source": [
    "Confusion Matrix"
   ]
  },
  {
   "cell_type": "code",
   "execution_count": null,
   "metadata": {
    "id": "jEKXuliUHYEt"
   },
   "outputs": [],
   "source": [
    "ConfusionMatrix = confusion_matrix(y_test, Prediction)"
   ]
  },
  {
   "cell_type": "markdown",
   "metadata": {
    "id": "-uy9UJzzHZpn"
   },
   "source": [
    "Visualizing Our Confusion Matrix"
   ]
  },
  {
   "cell_type": "code",
   "execution_count": null,
   "metadata": {
    "id": "ObhVU8GKoF8v"
   },
   "outputs": [],
   "source": [
    "# Plotting Function for Confusion Matrix\r\n",
    "def plot_cm(cm, classes, title, normalized = False, cmap = plt.cm.Blues):\r\n",
    "\r\n",
    "  plt.imshow(cm, interpolation = \"nearest\", cmap = cmap)\r\n",
    "  plt.title(title, pad = 20)\r\n",
    "  plt.colorbar()\r\n",
    "  tick_marks = np.arange(len(classes))\r\n",
    "  plt.xticks(tick_marks, classes)\r\n",
    "  plt.yticks(tick_marks, classes)\r\n",
    "\r\n",
    "  if normalized:\r\n",
    "    cm = cm.astype('float') / cm.sum(axis = 1)[: np.newaxis]\r\n",
    "    print(\"Normalized Confusion Matrix\")\r\n",
    "  else:\r\n",
    "    print(\"Unnormalized Confusion Matrix\")\r\n",
    "  \r\n",
    "  threshold = cm.max() / 2\r\n",
    "  for i in range(cm.shape[0]):\r\n",
    "    for j in range(cm.shape[1]):\r\n",
    "      plt.text(j, i, cm[i, j], horizontalalignment = \"center\", color = \"white\" if cm[i, j] > threshold else \"black\")\r\n",
    "\r\n",
    "  plt.tight_layout()\r\n",
    "  plt.xlabel(\"Predicted Label\", labelpad = 20)\r\n",
    "  plt.ylabel(\"Real Label\", labelpad = 20)"
   ]
  },
  {
   "cell_type": "code",
   "execution_count": null,
   "metadata": {
    "colab": {
     "base_uri": "https://localhost:8080/",
     "height": 344
    },
    "id": "fOwaQnIbIxS4",
    "outputId": "9893e164-92fe-4f72-8714-5754cb977f34"
   },
   "outputs": [],
   "source": [
    "plot_cm(ConfusionMatrix, classes = [\"Positive\", \"Neutral\", \"Negative\"], title = \"Confusion Matrix of Sentiment Analysis\")"
   ]
  },
  {
   "cell_type": "markdown",
   "metadata": {
    "id": "MO_uuTkHyAbw"
   },
   "source": [
    "*What we can gain from the Confusion Matrix above is that the model overall works well. It is able to categorize both positive and neutral sentiments correctly, while it seems to struggle a bit at determining negative sentiments. Of course, this is the effect of imbalanced data that we got from our original dataset, and luckily we can minimize the effect thanks to our SMOTE resampling before.*"
   ]
  },
  {
   "cell_type": "markdown",
   "metadata": {
    "id": "VSqWDmE6zEf2"
   },
   "source": [
    "Classification Scores"
   ]
  },
  {
   "cell_type": "code",
   "execution_count": null,
   "metadata": {
    "colab": {
     "base_uri": "https://localhost:8080/"
    },
    "id": "YMmXVR2rzIEB",
    "outputId": "953efef7-c6c6-4f5e-ef5f-a4259ab7f3b6"
   },
   "outputs": [],
   "source": [
    "print(classification_report(y_test, Prediction))"
   ]
  },
  {
   "cell_type": "markdown",
   "metadata": {
    "id": "9gKBKMVWzfu-"
   },
   "source": [
    "*Overall, to each of our sentiment categories, we got F1 Score of 95%, which is great and because of that we can conclude that our model works well on the dataset.*"
   ]
  },
  {
   "cell_type": "markdown",
   "metadata": {
    "id": "GUjks_Ps42E_"
   },
   "source": [
    "\r\n",
    "\r\n",
    "---\r\n",
    "\r\n"
   ]
  },
  {
   "cell_type": "markdown",
   "metadata": {
    "id": "-voe6yFbz9sw"
   },
   "source": [
    "# Conclusion"
   ]
  },
  {
   "cell_type": "markdown",
   "metadata": {
    "id": "VZ0SJ-lA0AAU"
   },
   "source": [
    "**Dataset**"
   ]
  },
  {
   "cell_type": "markdown",
   "metadata": {
    "id": "trUlnA_30Erh"
   },
   "source": [
    "\r\n",
    "\r\n",
    "1.   Our dataset contains many features about user reviews on musical instruments. But, we rarely need those features as our model variables because those features are not really important for sentiment analysis.\r\n",
    "2.   We might need to omit our part of removing stopwords in our preprocessing phase, because there might be some important words in determining user sentiments in our model.\r\n",
    "3.   From our text analysis, we know that most of the transactions made are related to guitars or other string-based instruments. We can say that guitar got a really high attention from the customers' pool and the sellers can emphasize their products on this instruments.\r\n",
    "\r\n"
   ]
  },
  {
   "cell_type": "markdown",
   "metadata": {
    "id": "ZwivYWyw1bSf"
   },
   "source": [
    "**Model**"
   ]
  },
  {
   "cell_type": "markdown",
   "metadata": {
    "id": "UCmxb-KG1dOK"
   },
   "source": [
    "\r\n",
    "\r\n",
    "1.   We tried almost all classification models available. By using 10-Fold Cross Validation, we get that Logistic Regression Model got the best accuracy and we decided to use this model and tune it.\r\n",
    "2.   On our attempt on making prediction to our test set, we also received a nice accuracy and high F1 Score. This means that our model works well on sentiment analysis.\r\n",
    "3.   We need to consider more Cross Validation Method, such as Stratified K-Fold so that we do not really need to do resampling on our dataset. Also, we are fine without data scaling, but it is highly suggested to do it.\r\n",
    "\r\n"
   ]
  },
  {
   "cell_type": "markdown",
   "metadata": {
    "id": "QDLJSURW43qO"
   },
   "source": [
    "\r\n",
    "\r\n",
    "---\r\n",
    "\r\n"
   ]
  },
  {
   "cell_type": "markdown",
   "metadata": {
    "id": "XIJnzRkj58Br"
   },
   "source": [
    "# Sources of Learning"
   ]
  },
  {
   "cell_type": "markdown",
   "metadata": {
    "id": "2WnumZ2o5-WB"
   },
   "source": [
    "*These articles and notebooks are great and really useful for sentiment analysis and NLP. Check it out!*"
   ]
  },
  {
   "cell_type": "markdown",
   "metadata": {
    "id": "VshiJBSd6ORy"
   },
   "source": [
    "\r\n",
    "\r\n",
    "1.   [Text Preprocessing in Python: Steps, Tools, and Examples](https://medium.com/@datamonsters/text-preprocessing-in-python-steps-tools-and-examples-bf025f872908)\r\n",
    "2.   [Sentiment Analysis — ML project from Scratch to Production (Web Application)](https://medium.com/towards-artificial-intelligence/sentiment-analysis-from-scratch-to-production-web-api-3382f19748e8)\r\n",
    "3.   [Updated Text Preprocessing techniques for Sentiment Analysis](https://towardsdatascience.com/updated-text-preprocessing-techniques-for-sentiment-analysis-549af7fe412a)\r\n",
    "4.   [Amazon Instrument: Sentimental Analysis](https://www.kaggle.com/nayansakhiya/amazon-instrument-sentimental-analysis)\r\n",
    "5.   [Sentiment Analysis | Amazon reviews](https://www.kaggle.com/benroshan/sentiment-analysis-amazon-reviews#Story-Generation-and-Visualization-from-reviews)\r\n",
    "6.   [SMOTE for Imbalanced Classification with Python](https://machinelearningmastery.com/smote-oversampling-for-imbalanced-classification/)"
   ]
  },
  {
   "cell_type": "markdown",
   "metadata": {
    "id": "DWVlYwh0kcGH"
   },
   "source": [
    "lkit"
   ]
  },
  {
   "cell_type": "markdown",
   "metadata": {
    "id": "n_QgezcR45IX"
   },
   "source": [
    "\r\n",
    "\r\n",
    "---\r\n",
    "\r\n"
   ]
  }
 ],
 "metadata": {
  "colab": {
   "name": "Sentiment Analysis.ipynb",
   "provenance": [],
   "toc_visible": true
  },
  "kernelspec": {
   "display_name": "Python 3 (ipykernel)",
   "language": "python",
   "name": "python3"
  },
  "language_info": {
   "codemirror_mode": {
    "name": "ipython",
    "version": 3
   },
   "file_extension": ".py",
   "mimetype": "text/x-python",
   "name": "python",
   "nbconvert_exporter": "python",
   "pygments_lexer": "ipython3",
   "version": "3.8.12"
  }
 },
 "nbformat": 4,
 "nbformat_minor": 4
}
